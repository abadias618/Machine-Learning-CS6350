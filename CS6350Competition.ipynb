{
  "nbformat": 4,
  "nbformat_minor": 0,
  "metadata": {
    "colab": {
      "provenance": []
    },
    "kernelspec": {
      "name": "python3",
      "display_name": "Python 3"
    },
    "language_info": {
      "name": "python"
    }
  },
  "cells": [
    {
      "cell_type": "code",
      "execution_count": 1,
      "metadata": {
        "id": "UW6FSxBaHzB7",
        "colab": {
          "base_uri": "https://localhost:8080/",
          "height": 109
        },
        "outputId": "8ac7da70-7f70-41af-df60-a75bcd268f8c"
      },
      "outputs": [
        {
          "output_type": "display_data",
          "data": {
            "text/plain": [
              "<IPython.core.display.HTML object>"
            ],
            "text/html": [
              "\n",
              "     <input type=\"file\" id=\"files-70a54ec6-f7a0-494c-9331-4a84dd222324\" name=\"files[]\" multiple disabled\n",
              "        style=\"border:none\" />\n",
              "     <output id=\"result-70a54ec6-f7a0-494c-9331-4a84dd222324\">\n",
              "      Upload widget is only available when the cell has been executed in the\n",
              "      current browser session. Please rerun this cell to enable.\n",
              "      </output>\n",
              "      <script>// Copyright 2017 Google LLC\n",
              "//\n",
              "// Licensed under the Apache License, Version 2.0 (the \"License\");\n",
              "// you may not use this file except in compliance with the License.\n",
              "// You may obtain a copy of the License at\n",
              "//\n",
              "//      http://www.apache.org/licenses/LICENSE-2.0\n",
              "//\n",
              "// Unless required by applicable law or agreed to in writing, software\n",
              "// distributed under the License is distributed on an \"AS IS\" BASIS,\n",
              "// WITHOUT WARRANTIES OR CONDITIONS OF ANY KIND, either express or implied.\n",
              "// See the License for the specific language governing permissions and\n",
              "// limitations under the License.\n",
              "\n",
              "/**\n",
              " * @fileoverview Helpers for google.colab Python module.\n",
              " */\n",
              "(function(scope) {\n",
              "function span(text, styleAttributes = {}) {\n",
              "  const element = document.createElement('span');\n",
              "  element.textContent = text;\n",
              "  for (const key of Object.keys(styleAttributes)) {\n",
              "    element.style[key] = styleAttributes[key];\n",
              "  }\n",
              "  return element;\n",
              "}\n",
              "\n",
              "// Max number of bytes which will be uploaded at a time.\n",
              "const MAX_PAYLOAD_SIZE = 100 * 1024;\n",
              "\n",
              "function _uploadFiles(inputId, outputId) {\n",
              "  const steps = uploadFilesStep(inputId, outputId);\n",
              "  const outputElement = document.getElementById(outputId);\n",
              "  // Cache steps on the outputElement to make it available for the next call\n",
              "  // to uploadFilesContinue from Python.\n",
              "  outputElement.steps = steps;\n",
              "\n",
              "  return _uploadFilesContinue(outputId);\n",
              "}\n",
              "\n",
              "// This is roughly an async generator (not supported in the browser yet),\n",
              "// where there are multiple asynchronous steps and the Python side is going\n",
              "// to poll for completion of each step.\n",
              "// This uses a Promise to block the python side on completion of each step,\n",
              "// then passes the result of the previous step as the input to the next step.\n",
              "function _uploadFilesContinue(outputId) {\n",
              "  const outputElement = document.getElementById(outputId);\n",
              "  const steps = outputElement.steps;\n",
              "\n",
              "  const next = steps.next(outputElement.lastPromiseValue);\n",
              "  return Promise.resolve(next.value.promise).then((value) => {\n",
              "    // Cache the last promise value to make it available to the next\n",
              "    // step of the generator.\n",
              "    outputElement.lastPromiseValue = value;\n",
              "    return next.value.response;\n",
              "  });\n",
              "}\n",
              "\n",
              "/**\n",
              " * Generator function which is called between each async step of the upload\n",
              " * process.\n",
              " * @param {string} inputId Element ID of the input file picker element.\n",
              " * @param {string} outputId Element ID of the output display.\n",
              " * @return {!Iterable<!Object>} Iterable of next steps.\n",
              " */\n",
              "function* uploadFilesStep(inputId, outputId) {\n",
              "  const inputElement = document.getElementById(inputId);\n",
              "  inputElement.disabled = false;\n",
              "\n",
              "  const outputElement = document.getElementById(outputId);\n",
              "  outputElement.innerHTML = '';\n",
              "\n",
              "  const pickedPromise = new Promise((resolve) => {\n",
              "    inputElement.addEventListener('change', (e) => {\n",
              "      resolve(e.target.files);\n",
              "    });\n",
              "  });\n",
              "\n",
              "  const cancel = document.createElement('button');\n",
              "  inputElement.parentElement.appendChild(cancel);\n",
              "  cancel.textContent = 'Cancel upload';\n",
              "  const cancelPromise = new Promise((resolve) => {\n",
              "    cancel.onclick = () => {\n",
              "      resolve(null);\n",
              "    };\n",
              "  });\n",
              "\n",
              "  // Wait for the user to pick the files.\n",
              "  const files = yield {\n",
              "    promise: Promise.race([pickedPromise, cancelPromise]),\n",
              "    response: {\n",
              "      action: 'starting',\n",
              "    }\n",
              "  };\n",
              "\n",
              "  cancel.remove();\n",
              "\n",
              "  // Disable the input element since further picks are not allowed.\n",
              "  inputElement.disabled = true;\n",
              "\n",
              "  if (!files) {\n",
              "    return {\n",
              "      response: {\n",
              "        action: 'complete',\n",
              "      }\n",
              "    };\n",
              "  }\n",
              "\n",
              "  for (const file of files) {\n",
              "    const li = document.createElement('li');\n",
              "    li.append(span(file.name, {fontWeight: 'bold'}));\n",
              "    li.append(span(\n",
              "        `(${file.type || 'n/a'}) - ${file.size} bytes, ` +\n",
              "        `last modified: ${\n",
              "            file.lastModifiedDate ? file.lastModifiedDate.toLocaleDateString() :\n",
              "                                    'n/a'} - `));\n",
              "    const percent = span('0% done');\n",
              "    li.appendChild(percent);\n",
              "\n",
              "    outputElement.appendChild(li);\n",
              "\n",
              "    const fileDataPromise = new Promise((resolve) => {\n",
              "      const reader = new FileReader();\n",
              "      reader.onload = (e) => {\n",
              "        resolve(e.target.result);\n",
              "      };\n",
              "      reader.readAsArrayBuffer(file);\n",
              "    });\n",
              "    // Wait for the data to be ready.\n",
              "    let fileData = yield {\n",
              "      promise: fileDataPromise,\n",
              "      response: {\n",
              "        action: 'continue',\n",
              "      }\n",
              "    };\n",
              "\n",
              "    // Use a chunked sending to avoid message size limits. See b/62115660.\n",
              "    let position = 0;\n",
              "    do {\n",
              "      const length = Math.min(fileData.byteLength - position, MAX_PAYLOAD_SIZE);\n",
              "      const chunk = new Uint8Array(fileData, position, length);\n",
              "      position += length;\n",
              "\n",
              "      const base64 = btoa(String.fromCharCode.apply(null, chunk));\n",
              "      yield {\n",
              "        response: {\n",
              "          action: 'append',\n",
              "          file: file.name,\n",
              "          data: base64,\n",
              "        },\n",
              "      };\n",
              "\n",
              "      let percentDone = fileData.byteLength === 0 ?\n",
              "          100 :\n",
              "          Math.round((position / fileData.byteLength) * 100);\n",
              "      percent.textContent = `${percentDone}% done`;\n",
              "\n",
              "    } while (position < fileData.byteLength);\n",
              "  }\n",
              "\n",
              "  // All done.\n",
              "  yield {\n",
              "    response: {\n",
              "      action: 'complete',\n",
              "    }\n",
              "  };\n",
              "}\n",
              "\n",
              "scope.google = scope.google || {};\n",
              "scope.google.colab = scope.google.colab || {};\n",
              "scope.google.colab._files = {\n",
              "  _uploadFiles,\n",
              "  _uploadFilesContinue,\n",
              "};\n",
              "})(self);\n",
              "</script> "
            ]
          },
          "metadata": {}
        },
        {
          "output_type": "stream",
          "name": "stdout",
          "text": [
            "Saving train_final.csv to train_final.csv\n",
            "Saving test_final.csv to test_final.csv\n"
          ]
        }
      ],
      "source": [
        "from google.colab import files\n",
        "uploaded = files.upload()"
      ]
    },
    {
      "cell_type": "code",
      "source": [
        "import pandas as pd\n",
        "import numpy as np\n",
        "import io\n",
        "\n",
        "X_raw = pd.read_csv(io.BytesIO(uploaded['train_final.csv']))"
      ],
      "metadata": {
        "id": "DJNe12DhJtKW"
      },
      "execution_count": 2,
      "outputs": []
    },
    {
      "cell_type": "code",
      "source": [
        "X_raw"
      ],
      "metadata": {
        "colab": {
          "base_uri": "https://localhost:8080/",
          "height": 644
        },
        "id": "Ec-0zs54LikX",
        "outputId": "d78d1a16-916c-4f34-a4bf-4ea4568b5b45"
      },
      "execution_count": 3,
      "outputs": [
        {
          "output_type": "execute_result",
          "data": {
            "text/plain": [
              "       age         workclass  fnlwgt     education  education.num  \\\n",
              "0       53  Self-emp-not-inc   93449   Prof-school             15   \n",
              "1       33  Self-emp-not-inc  123424     Bachelors             13   \n",
              "2       47           Private  144844       HS-grad              9   \n",
              "3       40           Private  114580       HS-grad              9   \n",
              "4       39           Private  115618       HS-grad              9   \n",
              "...    ...               ...     ...           ...            ...   \n",
              "24995   18           Private   83451       HS-grad              9   \n",
              "24996   64         Local-gov  202738       HS-grad              9   \n",
              "24997   39           Private  225544       Masters             14   \n",
              "24998   53           Private  346871       HS-grad              9   \n",
              "24999   18                 ?  192321  Some-college             10   \n",
              "\n",
              "           marital.status        occupation    relationship  \\\n",
              "0      Married-civ-spouse    Prof-specialty         Husband   \n",
              "1      Married-civ-spouse   Exec-managerial         Husband   \n",
              "2      Married-civ-spouse      Craft-repair         Husband   \n",
              "3                Divorced      Craft-repair  Other-relative   \n",
              "4      Married-civ-spouse  Transport-moving         Husband   \n",
              "...                   ...               ...             ...   \n",
              "24995       Never-married      Adm-clerical   Not-in-family   \n",
              "24996  Married-civ-spouse      Adm-clerical            Wife   \n",
              "24997  Married-civ-spouse  Transport-moving         Husband   \n",
              "24998            Divorced    Prof-specialty   Not-in-family   \n",
              "24999       Never-married                 ?       Own-child   \n",
              "\n",
              "                     race     sex  capital.gain  capital.loss  hours.per.week  \\\n",
              "0      Asian-Pac-Islander    Male             0             0              40   \n",
              "1                   White    Male             0             0              40   \n",
              "2                   White    Male             0             0              40   \n",
              "3                   White  Female             0             0              40   \n",
              "4                   White    Male             0             0              50   \n",
              "...                   ...     ...           ...           ...             ...   \n",
              "24995               White  Female             0             0              25   \n",
              "24996               White  Female             0             0              35   \n",
              "24997               White    Male             0             0              40   \n",
              "24998               White    Male          4787             0              46   \n",
              "24999               White    Male             0             0              40   \n",
              "\n",
              "      native.country  income>50K  \n",
              "0              India           1  \n",
              "1      United-States           1  \n",
              "2      United-States           0  \n",
              "3            Vietnam           0  \n",
              "4      United-States           0  \n",
              "...              ...         ...  \n",
              "24995  United-States           0  \n",
              "24996  United-States           0  \n",
              "24997         Poland           0  \n",
              "24998  United-States           1  \n",
              "24999  United-States           0  \n",
              "\n",
              "[25000 rows x 15 columns]"
            ],
            "text/html": [
              "\n",
              "  <div id=\"df-7326e168-c87d-433a-82e5-6a6761306949\">\n",
              "    <div class=\"colab-df-container\">\n",
              "      <div>\n",
              "<style scoped>\n",
              "    .dataframe tbody tr th:only-of-type {\n",
              "        vertical-align: middle;\n",
              "    }\n",
              "\n",
              "    .dataframe tbody tr th {\n",
              "        vertical-align: top;\n",
              "    }\n",
              "\n",
              "    .dataframe thead th {\n",
              "        text-align: right;\n",
              "    }\n",
              "</style>\n",
              "<table border=\"1\" class=\"dataframe\">\n",
              "  <thead>\n",
              "    <tr style=\"text-align: right;\">\n",
              "      <th></th>\n",
              "      <th>age</th>\n",
              "      <th>workclass</th>\n",
              "      <th>fnlwgt</th>\n",
              "      <th>education</th>\n",
              "      <th>education.num</th>\n",
              "      <th>marital.status</th>\n",
              "      <th>occupation</th>\n",
              "      <th>relationship</th>\n",
              "      <th>race</th>\n",
              "      <th>sex</th>\n",
              "      <th>capital.gain</th>\n",
              "      <th>capital.loss</th>\n",
              "      <th>hours.per.week</th>\n",
              "      <th>native.country</th>\n",
              "      <th>income&gt;50K</th>\n",
              "    </tr>\n",
              "  </thead>\n",
              "  <tbody>\n",
              "    <tr>\n",
              "      <th>0</th>\n",
              "      <td>53</td>\n",
              "      <td>Self-emp-not-inc</td>\n",
              "      <td>93449</td>\n",
              "      <td>Prof-school</td>\n",
              "      <td>15</td>\n",
              "      <td>Married-civ-spouse</td>\n",
              "      <td>Prof-specialty</td>\n",
              "      <td>Husband</td>\n",
              "      <td>Asian-Pac-Islander</td>\n",
              "      <td>Male</td>\n",
              "      <td>0</td>\n",
              "      <td>0</td>\n",
              "      <td>40</td>\n",
              "      <td>India</td>\n",
              "      <td>1</td>\n",
              "    </tr>\n",
              "    <tr>\n",
              "      <th>1</th>\n",
              "      <td>33</td>\n",
              "      <td>Self-emp-not-inc</td>\n",
              "      <td>123424</td>\n",
              "      <td>Bachelors</td>\n",
              "      <td>13</td>\n",
              "      <td>Married-civ-spouse</td>\n",
              "      <td>Exec-managerial</td>\n",
              "      <td>Husband</td>\n",
              "      <td>White</td>\n",
              "      <td>Male</td>\n",
              "      <td>0</td>\n",
              "      <td>0</td>\n",
              "      <td>40</td>\n",
              "      <td>United-States</td>\n",
              "      <td>1</td>\n",
              "    </tr>\n",
              "    <tr>\n",
              "      <th>2</th>\n",
              "      <td>47</td>\n",
              "      <td>Private</td>\n",
              "      <td>144844</td>\n",
              "      <td>HS-grad</td>\n",
              "      <td>9</td>\n",
              "      <td>Married-civ-spouse</td>\n",
              "      <td>Craft-repair</td>\n",
              "      <td>Husband</td>\n",
              "      <td>White</td>\n",
              "      <td>Male</td>\n",
              "      <td>0</td>\n",
              "      <td>0</td>\n",
              "      <td>40</td>\n",
              "      <td>United-States</td>\n",
              "      <td>0</td>\n",
              "    </tr>\n",
              "    <tr>\n",
              "      <th>3</th>\n",
              "      <td>40</td>\n",
              "      <td>Private</td>\n",
              "      <td>114580</td>\n",
              "      <td>HS-grad</td>\n",
              "      <td>9</td>\n",
              "      <td>Divorced</td>\n",
              "      <td>Craft-repair</td>\n",
              "      <td>Other-relative</td>\n",
              "      <td>White</td>\n",
              "      <td>Female</td>\n",
              "      <td>0</td>\n",
              "      <td>0</td>\n",
              "      <td>40</td>\n",
              "      <td>Vietnam</td>\n",
              "      <td>0</td>\n",
              "    </tr>\n",
              "    <tr>\n",
              "      <th>4</th>\n",
              "      <td>39</td>\n",
              "      <td>Private</td>\n",
              "      <td>115618</td>\n",
              "      <td>HS-grad</td>\n",
              "      <td>9</td>\n",
              "      <td>Married-civ-spouse</td>\n",
              "      <td>Transport-moving</td>\n",
              "      <td>Husband</td>\n",
              "      <td>White</td>\n",
              "      <td>Male</td>\n",
              "      <td>0</td>\n",
              "      <td>0</td>\n",
              "      <td>50</td>\n",
              "      <td>United-States</td>\n",
              "      <td>0</td>\n",
              "    </tr>\n",
              "    <tr>\n",
              "      <th>...</th>\n",
              "      <td>...</td>\n",
              "      <td>...</td>\n",
              "      <td>...</td>\n",
              "      <td>...</td>\n",
              "      <td>...</td>\n",
              "      <td>...</td>\n",
              "      <td>...</td>\n",
              "      <td>...</td>\n",
              "      <td>...</td>\n",
              "      <td>...</td>\n",
              "      <td>...</td>\n",
              "      <td>...</td>\n",
              "      <td>...</td>\n",
              "      <td>...</td>\n",
              "      <td>...</td>\n",
              "    </tr>\n",
              "    <tr>\n",
              "      <th>24995</th>\n",
              "      <td>18</td>\n",
              "      <td>Private</td>\n",
              "      <td>83451</td>\n",
              "      <td>HS-grad</td>\n",
              "      <td>9</td>\n",
              "      <td>Never-married</td>\n",
              "      <td>Adm-clerical</td>\n",
              "      <td>Not-in-family</td>\n",
              "      <td>White</td>\n",
              "      <td>Female</td>\n",
              "      <td>0</td>\n",
              "      <td>0</td>\n",
              "      <td>25</td>\n",
              "      <td>United-States</td>\n",
              "      <td>0</td>\n",
              "    </tr>\n",
              "    <tr>\n",
              "      <th>24996</th>\n",
              "      <td>64</td>\n",
              "      <td>Local-gov</td>\n",
              "      <td>202738</td>\n",
              "      <td>HS-grad</td>\n",
              "      <td>9</td>\n",
              "      <td>Married-civ-spouse</td>\n",
              "      <td>Adm-clerical</td>\n",
              "      <td>Wife</td>\n",
              "      <td>White</td>\n",
              "      <td>Female</td>\n",
              "      <td>0</td>\n",
              "      <td>0</td>\n",
              "      <td>35</td>\n",
              "      <td>United-States</td>\n",
              "      <td>0</td>\n",
              "    </tr>\n",
              "    <tr>\n",
              "      <th>24997</th>\n",
              "      <td>39</td>\n",
              "      <td>Private</td>\n",
              "      <td>225544</td>\n",
              "      <td>Masters</td>\n",
              "      <td>14</td>\n",
              "      <td>Married-civ-spouse</td>\n",
              "      <td>Transport-moving</td>\n",
              "      <td>Husband</td>\n",
              "      <td>White</td>\n",
              "      <td>Male</td>\n",
              "      <td>0</td>\n",
              "      <td>0</td>\n",
              "      <td>40</td>\n",
              "      <td>Poland</td>\n",
              "      <td>0</td>\n",
              "    </tr>\n",
              "    <tr>\n",
              "      <th>24998</th>\n",
              "      <td>53</td>\n",
              "      <td>Private</td>\n",
              "      <td>346871</td>\n",
              "      <td>HS-grad</td>\n",
              "      <td>9</td>\n",
              "      <td>Divorced</td>\n",
              "      <td>Prof-specialty</td>\n",
              "      <td>Not-in-family</td>\n",
              "      <td>White</td>\n",
              "      <td>Male</td>\n",
              "      <td>4787</td>\n",
              "      <td>0</td>\n",
              "      <td>46</td>\n",
              "      <td>United-States</td>\n",
              "      <td>1</td>\n",
              "    </tr>\n",
              "    <tr>\n",
              "      <th>24999</th>\n",
              "      <td>18</td>\n",
              "      <td>?</td>\n",
              "      <td>192321</td>\n",
              "      <td>Some-college</td>\n",
              "      <td>10</td>\n",
              "      <td>Never-married</td>\n",
              "      <td>?</td>\n",
              "      <td>Own-child</td>\n",
              "      <td>White</td>\n",
              "      <td>Male</td>\n",
              "      <td>0</td>\n",
              "      <td>0</td>\n",
              "      <td>40</td>\n",
              "      <td>United-States</td>\n",
              "      <td>0</td>\n",
              "    </tr>\n",
              "  </tbody>\n",
              "</table>\n",
              "<p>25000 rows × 15 columns</p>\n",
              "</div>\n",
              "      <button class=\"colab-df-convert\" onclick=\"convertToInteractive('df-7326e168-c87d-433a-82e5-6a6761306949')\"\n",
              "              title=\"Convert this dataframe to an interactive table.\"\n",
              "              style=\"display:none;\">\n",
              "        \n",
              "  <svg xmlns=\"http://www.w3.org/2000/svg\" height=\"24px\"viewBox=\"0 0 24 24\"\n",
              "       width=\"24px\">\n",
              "    <path d=\"M0 0h24v24H0V0z\" fill=\"none\"/>\n",
              "    <path d=\"M18.56 5.44l.94 2.06.94-2.06 2.06-.94-2.06-.94-.94-2.06-.94 2.06-2.06.94zm-11 1L8.5 8.5l.94-2.06 2.06-.94-2.06-.94L8.5 2.5l-.94 2.06-2.06.94zm10 10l.94 2.06.94-2.06 2.06-.94-2.06-.94-.94-2.06-.94 2.06-2.06.94z\"/><path d=\"M17.41 7.96l-1.37-1.37c-.4-.4-.92-.59-1.43-.59-.52 0-1.04.2-1.43.59L10.3 9.45l-7.72 7.72c-.78.78-.78 2.05 0 2.83L4 21.41c.39.39.9.59 1.41.59.51 0 1.02-.2 1.41-.59l7.78-7.78 2.81-2.81c.8-.78.8-2.07 0-2.86zM5.41 20L4 18.59l7.72-7.72 1.47 1.35L5.41 20z\"/>\n",
              "  </svg>\n",
              "      </button>\n",
              "      \n",
              "  <style>\n",
              "    .colab-df-container {\n",
              "      display:flex;\n",
              "      flex-wrap:wrap;\n",
              "      gap: 12px;\n",
              "    }\n",
              "\n",
              "    .colab-df-convert {\n",
              "      background-color: #E8F0FE;\n",
              "      border: none;\n",
              "      border-radius: 50%;\n",
              "      cursor: pointer;\n",
              "      display: none;\n",
              "      fill: #1967D2;\n",
              "      height: 32px;\n",
              "      padding: 0 0 0 0;\n",
              "      width: 32px;\n",
              "    }\n",
              "\n",
              "    .colab-df-convert:hover {\n",
              "      background-color: #E2EBFA;\n",
              "      box-shadow: 0px 1px 2px rgba(60, 64, 67, 0.3), 0px 1px 3px 1px rgba(60, 64, 67, 0.15);\n",
              "      fill: #174EA6;\n",
              "    }\n",
              "\n",
              "    [theme=dark] .colab-df-convert {\n",
              "      background-color: #3B4455;\n",
              "      fill: #D2E3FC;\n",
              "    }\n",
              "\n",
              "    [theme=dark] .colab-df-convert:hover {\n",
              "      background-color: #434B5C;\n",
              "      box-shadow: 0px 1px 3px 1px rgba(0, 0, 0, 0.15);\n",
              "      filter: drop-shadow(0px 1px 2px rgba(0, 0, 0, 0.3));\n",
              "      fill: #FFFFFF;\n",
              "    }\n",
              "  </style>\n",
              "\n",
              "      <script>\n",
              "        const buttonEl =\n",
              "          document.querySelector('#df-7326e168-c87d-433a-82e5-6a6761306949 button.colab-df-convert');\n",
              "        buttonEl.style.display =\n",
              "          google.colab.kernel.accessAllowed ? 'block' : 'none';\n",
              "\n",
              "        async function convertToInteractive(key) {\n",
              "          const element = document.querySelector('#df-7326e168-c87d-433a-82e5-6a6761306949');\n",
              "          const dataTable =\n",
              "            await google.colab.kernel.invokeFunction('convertToInteractive',\n",
              "                                                     [key], {});\n",
              "          if (!dataTable) return;\n",
              "\n",
              "          const docLinkHtml = 'Like what you see? Visit the ' +\n",
              "            '<a target=\"_blank\" href=https://colab.research.google.com/notebooks/data_table.ipynb>data table notebook</a>'\n",
              "            + ' to learn more about interactive tables.';\n",
              "          element.innerHTML = '';\n",
              "          dataTable['output_type'] = 'display_data';\n",
              "          await google.colab.output.renderOutput(dataTable, element);\n",
              "          const docLink = document.createElement('div');\n",
              "          docLink.innerHTML = docLinkHtml;\n",
              "          element.appendChild(docLink);\n",
              "        }\n",
              "      </script>\n",
              "    </div>\n",
              "  </div>\n",
              "  "
            ]
          },
          "metadata": {},
          "execution_count": 3
        }
      ]
    },
    {
      "cell_type": "code",
      "source": [
        "X_raw.info()"
      ],
      "metadata": {
        "colab": {
          "base_uri": "https://localhost:8080/"
        },
        "id": "hqqcuV5mMM3G",
        "outputId": "dbfd7428-e3e9-4d9a-d10f-320c5e7c5781"
      },
      "execution_count": 4,
      "outputs": [
        {
          "output_type": "stream",
          "name": "stdout",
          "text": [
            "<class 'pandas.core.frame.DataFrame'>\n",
            "RangeIndex: 25000 entries, 0 to 24999\n",
            "Data columns (total 15 columns):\n",
            " #   Column          Non-Null Count  Dtype \n",
            "---  ------          --------------  ----- \n",
            " 0   age             25000 non-null  int64 \n",
            " 1   workclass       25000 non-null  object\n",
            " 2   fnlwgt          25000 non-null  int64 \n",
            " 3   education       25000 non-null  object\n",
            " 4   education.num   25000 non-null  int64 \n",
            " 5   marital.status  25000 non-null  object\n",
            " 6   occupation      25000 non-null  object\n",
            " 7   relationship    25000 non-null  object\n",
            " 8   race            25000 non-null  object\n",
            " 9   sex             25000 non-null  object\n",
            " 10  capital.gain    25000 non-null  int64 \n",
            " 11  capital.loss    25000 non-null  int64 \n",
            " 12  hours.per.week  25000 non-null  int64 \n",
            " 13  native.country  25000 non-null  object\n",
            " 14  income>50K      25000 non-null  int64 \n",
            "dtypes: int64(7), object(8)\n",
            "memory usage: 2.9+ MB\n"
          ]
        }
      ]
    },
    {
      "cell_type": "code",
      "source": [
        "for v in X_raw.columns:\n",
        "  print(pd.DataFrame(X_raw[v].value_counts()))"
      ],
      "metadata": {
        "colab": {
          "base_uri": "https://localhost:8080/"
        },
        "id": "u1A6mia3NqYj",
        "outputId": "47462c93-daba-4f6a-b900-4f50a8e4bdf9"
      },
      "execution_count": 5,
      "outputs": [
        {
          "output_type": "stream",
          "name": "stdout",
          "text": [
            "    age\n",
            "36  741\n",
            "33  695\n",
            "35  683\n",
            "31  679\n",
            "23  672\n",
            "..  ...\n",
            "83    5\n",
            "82    5\n",
            "87    3\n",
            "85    2\n",
            "89    1\n",
            "\n",
            "[73 rows x 1 columns]\n",
            "                  workclass\n",
            "Private               17336\n",
            "Self-emp-not-inc       1978\n",
            "Local-gov              1617\n",
            "?                      1437\n",
            "State-gov              1037\n",
            "Self-emp-inc            845\n",
            "Federal-gov             730\n",
            "Without-pay              15\n",
            "Never-worked              5\n",
            "        fnlwgt\n",
            "111567      12\n",
            "203488      11\n",
            "161141      10\n",
            "246891      10\n",
            "126569      10\n",
            "...        ...\n",
            "95984        1\n",
            "96705        1\n",
            "86958        1\n",
            "61989        1\n",
            "202738       1\n",
            "\n",
            "[17870 rows x 1 columns]\n",
            "              education\n",
            "HS-grad            8119\n",
            "Some-college       5571\n",
            "Bachelors          4044\n",
            "Masters            1369\n",
            "Assoc-voc          1055\n",
            "11th                935\n",
            "Assoc-acdm          812\n",
            "10th                689\n",
            "7th-8th             491\n",
            "Prof-school         450\n",
            "9th                 385\n",
            "12th                333\n",
            "Doctorate           307\n",
            "5th-6th             260\n",
            "1st-4th             136\n",
            "Preschool            44\n",
            "    education.num\n",
            "9            8119\n",
            "10           5571\n",
            "13           4044\n",
            "14           1369\n",
            "11           1055\n",
            "7             935\n",
            "12            812\n",
            "6             689\n",
            "4             491\n",
            "15            450\n",
            "5             385\n",
            "8             333\n",
            "16            307\n",
            "3             260\n",
            "2             136\n",
            "1              44\n",
            "                       marital.status\n",
            "Married-civ-spouse              11443\n",
            "Never-married                    8226\n",
            "Divorced                         3412\n",
            "Widowed                           837\n",
            "Separated                         729\n",
            "Married-spouse-absent             326\n",
            "Married-AF-spouse                  27\n",
            "                   occupation\n",
            "Prof-specialty           3204\n",
            "Exec-managerial          3172\n",
            "Craft-repair             3145\n",
            "Adm-clerical             2827\n",
            "Sales                    2727\n",
            "Other-service            2547\n",
            "Machine-op-inspct        1583\n",
            "?                        1442\n",
            "Transport-moving         1192\n",
            "Handlers-cleaners        1047\n",
            "Tech-support              743\n",
            "Farming-fishing           736\n",
            "Protective-serv           506\n",
            "Priv-house-serv           119\n",
            "Armed-Forces               10\n",
            "                relationship\n",
            "Husband                10111\n",
            "Not-in-family           6483\n",
            "Own-child               3879\n",
            "Unmarried               2635\n",
            "Wife                    1162\n",
            "Other-relative           730\n",
            "                     race\n",
            "White               21359\n",
            "Black                2366\n",
            "Asian-Pac-Islander    801\n",
            "Amer-Indian-Eskimo    257\n",
            "Other                 217\n",
            "          sex\n",
            "Male    16724\n",
            "Female   8276\n",
            "       capital.gain\n",
            "0             22879\n",
            "15024           270\n",
            "7688            212\n",
            "7298            198\n",
            "99999           128\n",
            "...             ...\n",
            "1639              1\n",
            "1455              1\n",
            "2062              1\n",
            "4931              1\n",
            "10566             1\n",
            "\n",
            "[117 rows x 1 columns]\n",
            "      capital.loss\n",
            "0            23829\n",
            "1902           174\n",
            "1977           125\n",
            "1887           123\n",
            "1485            39\n",
            "...            ...\n",
            "1911             1\n",
            "1429             1\n",
            "3683             1\n",
            "1411             1\n",
            "1138             1\n",
            "\n",
            "[89 rows x 1 columns]\n",
            "    hours.per.week\n",
            "40           11697\n",
            "50            2196\n",
            "45            1388\n",
            "60            1135\n",
            "35            1020\n",
            "..             ...\n",
            "88               1\n",
            "95               1\n",
            "94               1\n",
            "82               1\n",
            "74               1\n",
            "\n",
            "[92 rows x 1 columns]\n",
            "                            native.country\n",
            "United-States                        22516\n",
            "Mexico                                 463\n",
            "?                                      427\n",
            "Philippines                            152\n",
            "Germany                                 99\n",
            "Canada                                  93\n",
            "Puerto-Rico                             87\n",
            "El-Salvador                             77\n",
            "India                                   76\n",
            "Cuba                                    70\n",
            "England                                 68\n",
            "South                                   61\n",
            "China                                   60\n",
            "Italy                                   48\n",
            "Guatemala                               46\n",
            "Jamaica                                 46\n",
            "Poland                                  45\n",
            "Dominican-Republic                      45\n",
            "Japan                                   44\n",
            "Vietnam                                 43\n",
            "Columbia                                41\n",
            "Portugal                                36\n",
            "Iran                                    35\n",
            "Taiwan                                  33\n",
            "Haiti                                   30\n",
            "Nicaragua                               27\n",
            "Peru                                    23\n",
            "Greece                                  20\n",
            "Hong                                    19\n",
            "France                                  19\n",
            "Ecuador                                 18\n",
            "Trinadad&Tobago                         16\n",
            "Yugoslavia                              14\n",
            "Cambodia                                14\n",
            "Scotland                                14\n",
            "Ireland                                 14\n",
            "Thailand                                14\n",
            "Laos                                    14\n",
            "Honduras                                13\n",
            "Outlying-US(Guam-USVI-etc)              12\n",
            "Hungary                                  8\n",
            "   income>50K\n",
            "0       18984\n",
            "1        6016\n"
          ]
        }
      ]
    },
    {
      "cell_type": "code",
      "source": [
        "categorical_cols = X_raw.select_dtypes(exclude=['int64'])\n",
        "for col in categorical_cols.columns:\n",
        "  print(pd.DataFrame(categorical_cols[col].value_counts()))"
      ],
      "metadata": {
        "colab": {
          "base_uri": "https://localhost:8080/"
        },
        "id": "pUbogJvoPLnW",
        "outputId": "f7636c3b-a93c-459b-9a88-e656647df4c1"
      },
      "execution_count": 6,
      "outputs": [
        {
          "output_type": "stream",
          "name": "stdout",
          "text": [
            "                  workclass\n",
            "Private               17336\n",
            "Self-emp-not-inc       1978\n",
            "Local-gov              1617\n",
            "?                      1437\n",
            "State-gov              1037\n",
            "Self-emp-inc            845\n",
            "Federal-gov             730\n",
            "Without-pay              15\n",
            "Never-worked              5\n",
            "              education\n",
            "HS-grad            8119\n",
            "Some-college       5571\n",
            "Bachelors          4044\n",
            "Masters            1369\n",
            "Assoc-voc          1055\n",
            "11th                935\n",
            "Assoc-acdm          812\n",
            "10th                689\n",
            "7th-8th             491\n",
            "Prof-school         450\n",
            "9th                 385\n",
            "12th                333\n",
            "Doctorate           307\n",
            "5th-6th             260\n",
            "1st-4th             136\n",
            "Preschool            44\n",
            "                       marital.status\n",
            "Married-civ-spouse              11443\n",
            "Never-married                    8226\n",
            "Divorced                         3412\n",
            "Widowed                           837\n",
            "Separated                         729\n",
            "Married-spouse-absent             326\n",
            "Married-AF-spouse                  27\n",
            "                   occupation\n",
            "Prof-specialty           3204\n",
            "Exec-managerial          3172\n",
            "Craft-repair             3145\n",
            "Adm-clerical             2827\n",
            "Sales                    2727\n",
            "Other-service            2547\n",
            "Machine-op-inspct        1583\n",
            "?                        1442\n",
            "Transport-moving         1192\n",
            "Handlers-cleaners        1047\n",
            "Tech-support              743\n",
            "Farming-fishing           736\n",
            "Protective-serv           506\n",
            "Priv-house-serv           119\n",
            "Armed-Forces               10\n",
            "                relationship\n",
            "Husband                10111\n",
            "Not-in-family           6483\n",
            "Own-child               3879\n",
            "Unmarried               2635\n",
            "Wife                    1162\n",
            "Other-relative           730\n",
            "                     race\n",
            "White               21359\n",
            "Black                2366\n",
            "Asian-Pac-Islander    801\n",
            "Amer-Indian-Eskimo    257\n",
            "Other                 217\n",
            "          sex\n",
            "Male    16724\n",
            "Female   8276\n",
            "                            native.country\n",
            "United-States                        22516\n",
            "Mexico                                 463\n",
            "?                                      427\n",
            "Philippines                            152\n",
            "Germany                                 99\n",
            "Canada                                  93\n",
            "Puerto-Rico                             87\n",
            "El-Salvador                             77\n",
            "India                                   76\n",
            "Cuba                                    70\n",
            "England                                 68\n",
            "South                                   61\n",
            "China                                   60\n",
            "Italy                                   48\n",
            "Guatemala                               46\n",
            "Jamaica                                 46\n",
            "Poland                                  45\n",
            "Dominican-Republic                      45\n",
            "Japan                                   44\n",
            "Vietnam                                 43\n",
            "Columbia                                41\n",
            "Portugal                                36\n",
            "Iran                                    35\n",
            "Taiwan                                  33\n",
            "Haiti                                   30\n",
            "Nicaragua                               27\n",
            "Peru                                    23\n",
            "Greece                                  20\n",
            "Hong                                    19\n",
            "France                                  19\n",
            "Ecuador                                 18\n",
            "Trinadad&Tobago                         16\n",
            "Yugoslavia                              14\n",
            "Cambodia                                14\n",
            "Scotland                                14\n",
            "Ireland                                 14\n",
            "Thailand                                14\n",
            "Laos                                    14\n",
            "Honduras                                13\n",
            "Outlying-US(Guam-USVI-etc)              12\n",
            "Hungary                                  8\n"
          ]
        }
      ]
    },
    {
      "cell_type": "code",
      "source": [
        "numerical_cols = X_raw.select_dtypes(include=['int64'])\n",
        "numerical_cols.describe()"
      ],
      "metadata": {
        "colab": {
          "base_uri": "https://localhost:8080/",
          "height": 300
        },
        "id": "rusXfHJrQ8IW",
        "outputId": "312dd007-1bb5-4cfb-fa4a-8b59661e1f1b"
      },
      "execution_count": 7,
      "outputs": [
        {
          "output_type": "execute_result",
          "data": {
            "text/plain": [
              "                age        fnlwgt  education.num  capital.gain  capital.loss  \\\n",
              "count  25000.000000  2.500000e+04   25000.000000  25000.000000  25000.000000   \n",
              "mean      38.693480  1.887923e+05      10.074320   1110.614440     87.213840   \n",
              "std       13.719406  1.058117e+05       2.576607   7555.089474    400.989282   \n",
              "min       17.000000  1.228500e+04       1.000000      0.000000      0.000000   \n",
              "25%       28.000000  1.171998e+05       9.000000      0.000000      0.000000   \n",
              "50%       37.000000  1.772995e+05      10.000000      0.000000      0.000000   \n",
              "75%       48.000000  2.356498e+05      12.000000      0.000000      0.000000   \n",
              "max       90.000000  1.490400e+06      16.000000  99999.000000   4356.000000   \n",
              "\n",
              "       hours.per.week    income>50K  \n",
              "count    25000.000000  25000.000000  \n",
              "mean        40.527600      0.240640  \n",
              "std         12.413688      0.427481  \n",
              "min          1.000000      0.000000  \n",
              "25%         40.000000      0.000000  \n",
              "50%         40.000000      0.000000  \n",
              "75%         45.000000      0.000000  \n",
              "max         99.000000      1.000000  "
            ],
            "text/html": [
              "\n",
              "  <div id=\"df-d57dee62-32eb-4737-8eea-fc63d0bc9f18\">\n",
              "    <div class=\"colab-df-container\">\n",
              "      <div>\n",
              "<style scoped>\n",
              "    .dataframe tbody tr th:only-of-type {\n",
              "        vertical-align: middle;\n",
              "    }\n",
              "\n",
              "    .dataframe tbody tr th {\n",
              "        vertical-align: top;\n",
              "    }\n",
              "\n",
              "    .dataframe thead th {\n",
              "        text-align: right;\n",
              "    }\n",
              "</style>\n",
              "<table border=\"1\" class=\"dataframe\">\n",
              "  <thead>\n",
              "    <tr style=\"text-align: right;\">\n",
              "      <th></th>\n",
              "      <th>age</th>\n",
              "      <th>fnlwgt</th>\n",
              "      <th>education.num</th>\n",
              "      <th>capital.gain</th>\n",
              "      <th>capital.loss</th>\n",
              "      <th>hours.per.week</th>\n",
              "      <th>income&gt;50K</th>\n",
              "    </tr>\n",
              "  </thead>\n",
              "  <tbody>\n",
              "    <tr>\n",
              "      <th>count</th>\n",
              "      <td>25000.000000</td>\n",
              "      <td>2.500000e+04</td>\n",
              "      <td>25000.000000</td>\n",
              "      <td>25000.000000</td>\n",
              "      <td>25000.000000</td>\n",
              "      <td>25000.000000</td>\n",
              "      <td>25000.000000</td>\n",
              "    </tr>\n",
              "    <tr>\n",
              "      <th>mean</th>\n",
              "      <td>38.693480</td>\n",
              "      <td>1.887923e+05</td>\n",
              "      <td>10.074320</td>\n",
              "      <td>1110.614440</td>\n",
              "      <td>87.213840</td>\n",
              "      <td>40.527600</td>\n",
              "      <td>0.240640</td>\n",
              "    </tr>\n",
              "    <tr>\n",
              "      <th>std</th>\n",
              "      <td>13.719406</td>\n",
              "      <td>1.058117e+05</td>\n",
              "      <td>2.576607</td>\n",
              "      <td>7555.089474</td>\n",
              "      <td>400.989282</td>\n",
              "      <td>12.413688</td>\n",
              "      <td>0.427481</td>\n",
              "    </tr>\n",
              "    <tr>\n",
              "      <th>min</th>\n",
              "      <td>17.000000</td>\n",
              "      <td>1.228500e+04</td>\n",
              "      <td>1.000000</td>\n",
              "      <td>0.000000</td>\n",
              "      <td>0.000000</td>\n",
              "      <td>1.000000</td>\n",
              "      <td>0.000000</td>\n",
              "    </tr>\n",
              "    <tr>\n",
              "      <th>25%</th>\n",
              "      <td>28.000000</td>\n",
              "      <td>1.171998e+05</td>\n",
              "      <td>9.000000</td>\n",
              "      <td>0.000000</td>\n",
              "      <td>0.000000</td>\n",
              "      <td>40.000000</td>\n",
              "      <td>0.000000</td>\n",
              "    </tr>\n",
              "    <tr>\n",
              "      <th>50%</th>\n",
              "      <td>37.000000</td>\n",
              "      <td>1.772995e+05</td>\n",
              "      <td>10.000000</td>\n",
              "      <td>0.000000</td>\n",
              "      <td>0.000000</td>\n",
              "      <td>40.000000</td>\n",
              "      <td>0.000000</td>\n",
              "    </tr>\n",
              "    <tr>\n",
              "      <th>75%</th>\n",
              "      <td>48.000000</td>\n",
              "      <td>2.356498e+05</td>\n",
              "      <td>12.000000</td>\n",
              "      <td>0.000000</td>\n",
              "      <td>0.000000</td>\n",
              "      <td>45.000000</td>\n",
              "      <td>0.000000</td>\n",
              "    </tr>\n",
              "    <tr>\n",
              "      <th>max</th>\n",
              "      <td>90.000000</td>\n",
              "      <td>1.490400e+06</td>\n",
              "      <td>16.000000</td>\n",
              "      <td>99999.000000</td>\n",
              "      <td>4356.000000</td>\n",
              "      <td>99.000000</td>\n",
              "      <td>1.000000</td>\n",
              "    </tr>\n",
              "  </tbody>\n",
              "</table>\n",
              "</div>\n",
              "      <button class=\"colab-df-convert\" onclick=\"convertToInteractive('df-d57dee62-32eb-4737-8eea-fc63d0bc9f18')\"\n",
              "              title=\"Convert this dataframe to an interactive table.\"\n",
              "              style=\"display:none;\">\n",
              "        \n",
              "  <svg xmlns=\"http://www.w3.org/2000/svg\" height=\"24px\"viewBox=\"0 0 24 24\"\n",
              "       width=\"24px\">\n",
              "    <path d=\"M0 0h24v24H0V0z\" fill=\"none\"/>\n",
              "    <path d=\"M18.56 5.44l.94 2.06.94-2.06 2.06-.94-2.06-.94-.94-2.06-.94 2.06-2.06.94zm-11 1L8.5 8.5l.94-2.06 2.06-.94-2.06-.94L8.5 2.5l-.94 2.06-2.06.94zm10 10l.94 2.06.94-2.06 2.06-.94-2.06-.94-.94-2.06-.94 2.06-2.06.94z\"/><path d=\"M17.41 7.96l-1.37-1.37c-.4-.4-.92-.59-1.43-.59-.52 0-1.04.2-1.43.59L10.3 9.45l-7.72 7.72c-.78.78-.78 2.05 0 2.83L4 21.41c.39.39.9.59 1.41.59.51 0 1.02-.2 1.41-.59l7.78-7.78 2.81-2.81c.8-.78.8-2.07 0-2.86zM5.41 20L4 18.59l7.72-7.72 1.47 1.35L5.41 20z\"/>\n",
              "  </svg>\n",
              "      </button>\n",
              "      \n",
              "  <style>\n",
              "    .colab-df-container {\n",
              "      display:flex;\n",
              "      flex-wrap:wrap;\n",
              "      gap: 12px;\n",
              "    }\n",
              "\n",
              "    .colab-df-convert {\n",
              "      background-color: #E8F0FE;\n",
              "      border: none;\n",
              "      border-radius: 50%;\n",
              "      cursor: pointer;\n",
              "      display: none;\n",
              "      fill: #1967D2;\n",
              "      height: 32px;\n",
              "      padding: 0 0 0 0;\n",
              "      width: 32px;\n",
              "    }\n",
              "\n",
              "    .colab-df-convert:hover {\n",
              "      background-color: #E2EBFA;\n",
              "      box-shadow: 0px 1px 2px rgba(60, 64, 67, 0.3), 0px 1px 3px 1px rgba(60, 64, 67, 0.15);\n",
              "      fill: #174EA6;\n",
              "    }\n",
              "\n",
              "    [theme=dark] .colab-df-convert {\n",
              "      background-color: #3B4455;\n",
              "      fill: #D2E3FC;\n",
              "    }\n",
              "\n",
              "    [theme=dark] .colab-df-convert:hover {\n",
              "      background-color: #434B5C;\n",
              "      box-shadow: 0px 1px 3px 1px rgba(0, 0, 0, 0.15);\n",
              "      filter: drop-shadow(0px 1px 2px rgba(0, 0, 0, 0.3));\n",
              "      fill: #FFFFFF;\n",
              "    }\n",
              "  </style>\n",
              "\n",
              "      <script>\n",
              "        const buttonEl =\n",
              "          document.querySelector('#df-d57dee62-32eb-4737-8eea-fc63d0bc9f18 button.colab-df-convert');\n",
              "        buttonEl.style.display =\n",
              "          google.colab.kernel.accessAllowed ? 'block' : 'none';\n",
              "\n",
              "        async function convertToInteractive(key) {\n",
              "          const element = document.querySelector('#df-d57dee62-32eb-4737-8eea-fc63d0bc9f18');\n",
              "          const dataTable =\n",
              "            await google.colab.kernel.invokeFunction('convertToInteractive',\n",
              "                                                     [key], {});\n",
              "          if (!dataTable) return;\n",
              "\n",
              "          const docLinkHtml = 'Like what you see? Visit the ' +\n",
              "            '<a target=\"_blank\" href=https://colab.research.google.com/notebooks/data_table.ipynb>data table notebook</a>'\n",
              "            + ' to learn more about interactive tables.';\n",
              "          element.innerHTML = '';\n",
              "          dataTable['output_type'] = 'display_data';\n",
              "          await google.colab.output.renderOutput(dataTable, element);\n",
              "          const docLink = document.createElement('div');\n",
              "          docLink.innerHTML = docLinkHtml;\n",
              "          element.appendChild(docLink);\n",
              "        }\n",
              "      </script>\n",
              "    </div>\n",
              "  </div>\n",
              "  "
            ]
          },
          "metadata": {},
          "execution_count": 7
        }
      ]
    },
    {
      "cell_type": "code",
      "source": [
        "# replace missing values\n",
        "X_raw['workclass'] = X_raw['workclass'].replace('?','Private')\n",
        "X_raw['native.country'] = X_raw['native.country'].replace('?','United-States')\n",
        "sub = X_raw.loc[X_raw['occupation'] == '?', ['occupation','income>50K']]\n",
        "most_common_label = sub['income>50K'].value_counts().idxmax()\n",
        "sub2 = X_raw.loc[X_raw['income>50K'] == most_common_label, ['occupation']]\n",
        "most_common_label = sub2['occupation'].value_counts().idxmax()\n",
        "#print(most_common_label)\n",
        "#print(sub)\n",
        "X_raw['occupation'] = X_raw['occupation'].replace('?',str(most_common_label))"
      ],
      "metadata": {
        "id": "WaMUy3nygCSw"
      },
      "execution_count": 8,
      "outputs": []
    },
    {
      "cell_type": "code",
      "source": [
        "X = X_raw.copy()"
      ],
      "metadata": {
        "id": "eGQfikIPjX6f"
      },
      "execution_count": 9,
      "outputs": []
    },
    {
      "cell_type": "code",
      "source": [
        "X_train = X.loc[:,X.columns != 'income>50K']\n",
        "y_train = X['income>50K']"
      ],
      "metadata": {
        "id": "7jqNGzEsngeI"
      },
      "execution_count": 52,
      "outputs": []
    },
    {
      "cell_type": "code",
      "source": [
        "from sklearn.preprocessing import OrdinalEncoder\n",
        "from sklearn.compose import make_column_transformer, make_column_selector\n",
        "from sklearn.preprocessing import OneHotEncoder\n"
      ],
      "metadata": {
        "id": "xAfXN7dstGMH"
      },
      "execution_count": 228,
      "outputs": []
    },
    {
      "cell_type": "markdown",
      "source": [
        "# Decision Trees"
      ],
      "metadata": {
        "id": "erTPo6DlGmP_"
      }
    },
    {
      "cell_type": "code",
      "source": [
        "# BAGGING with Decision Trees\n",
        "from sklearn.pipeline import make_pipeline\n",
        "from sklearn.ensemble import BaggingClassifier\n",
        "from sklearn.tree import DecisionTreeClassifier\n",
        "categorical_encoder = OrdinalEncoder()\n",
        "preprocessor = make_column_transformer(\n",
        "    (categorical_encoder, make_column_selector(dtype_include=object)),\n",
        "    remainder=\"passthrough\"\n",
        ")\n",
        "bagged_trees = make_pipeline(\n",
        "    preprocessor,\n",
        "    BaggingClassifier(\n",
        "        base_estimator=DecisionTreeClassifier(random_state=0),\n",
        "        n_estimators=50, n_jobs=-1, random_state=0,\n",
        "    )\n",
        ")\n",
        "from sklearn.model_selection import cross_val_score\n",
        "scores_bagged_trees = cross_val_score(bagged_trees, X_train, y_train)\n",
        "\n",
        "print(f\"Bagged decision tree classifier: \"\n",
        "      f\"{scores_bagged_trees.mean():.3f} ± {scores_bagged_trees.std():.3f}\")\n",
        "\n",
        "scores_bagged_trees"
      ],
      "metadata": {
        "id": "OtVOBn-DtYMX",
        "colab": {
          "base_uri": "https://localhost:8080/"
        },
        "outputId": "1e3bbe99-fd63-4ab5-ed3a-42a0de91e0e7"
      },
      "execution_count": 22,
      "outputs": [
        {
          "output_type": "stream",
          "name": "stdout",
          "text": [
            "Bagged decision tree classifier: 0.853 ± 0.003\n"
          ]
        },
        {
          "output_type": "execute_result",
          "data": {
            "text/plain": [
              "array([0.8526, 0.8474, 0.8556, 0.8546, 0.8542])"
            ]
          },
          "metadata": {},
          "execution_count": 22
        }
      ]
    },
    {
      "cell_type": "code",
      "source": [
        "# PLOT - BAGGING with Decision Trees\n",
        "import matplotlib.pyplot as plt\n",
        "x = list(range(1, 6))\n",
        "\n",
        "plt.plot(x, scores_bagged_trees)\n",
        "plt.xticks(list(range(1, 6)))\n",
        "plt.title(\"Evaluation scores with cross validation\")\n",
        "plt.xlabel(\"Cross-validations\")\n",
        "plt.ylabel(\"Scores\")\n",
        "plt.show()"
      ],
      "metadata": {
        "colab": {
          "base_uri": "https://localhost:8080/",
          "height": 295
        },
        "id": "MTPc5xZiqNQC",
        "outputId": "4b973ebc-5326-40b5-91a1-dd25c98d57a2"
      },
      "execution_count": 27,
      "outputs": [
        {
          "output_type": "display_data",
          "data": {
            "text/plain": [
              "<Figure size 432x288 with 1 Axes>"
            ],
            "image/png": "[encoded data removed]"
          },
          "metadata": {
            "needs_background": "light"
          }
        }
      ]
    },
    {
      "cell_type": "code",
      "source": [
        "# PREDICT - BAGGING with Decision Trees\n",
        "\n",
        "test_df = pd.read_csv(io.BytesIO(uploaded['test_final.csv']))\n",
        "# Clean the testing data so that the transformer doesn't find\n",
        "# values it hasn't seen before\n",
        "# Holand-Netherlands is a unique example in the test_df\n",
        "def clean_X_test(X_test):\n",
        "  X_test['workclass'] = X_test['workclass'].replace('?','Private')\n",
        "  X_test['occupation'] = X_test['occupation'].replace('?','Other-service')\n",
        "  X_test['native.country'] = X_test['native.country'].replace('?','United-States')\n",
        "  X_test['native.country'] = X_test['native.country'].replace('Holand-Netherlands','United-States')\n",
        "  return X_test\n",
        "\n",
        "bagged_trees.fit(X_train, y_train)\n",
        "\n",
        "X_test = test_df.loc[:,test_df.columns != 'ID'].copy()\n",
        "X_test = clean_X_test(X_test)\n",
        "ids = test_df['ID']\n",
        "y_test = []\n",
        "# to predict on testing data\n",
        "test_predictions = bagged_trees.predict(X_test)\n",
        "# to predict on training data\n",
        "predictions = bagged_trees.predict(X_train)"
      ],
      "metadata": {
        "id": "33VRTpkXocz4"
      },
      "execution_count": null,
      "outputs": []
    },
    {
      "cell_type": "markdown",
      "source": [
        "# SVMs"
      ],
      "metadata": {
        "id": "6M1TlF7gGqhn"
      }
    },
    {
      "cell_type": "code",
      "source": [
        "## BAGGING with SVM\n",
        "from sklearn.svm import SVC\n",
        "categorical_encoder = OrdinalEncoder()\n",
        "preprocessor = make_column_transformer(\n",
        "    (categorical_encoder, make_column_selector(dtype_include=object)),\n",
        "    remainder=\"passthrough\"\n",
        ")\n",
        "bagged_svms = make_pipeline(\n",
        "    preprocessor,\n",
        "    BaggingClassifier(\n",
        "        base_estimator=SVC(),\n",
        "        n_estimators=5, n_jobs=-1, random_state=0,\n",
        "    )\n",
        ")\n",
        "scores_bagged_svms = cross_val_score(bagged_svms, X_train, y_train, verbose=5)\n",
        "\n",
        "print(f\"Bagged SVM classifier: \"\n",
        "      f\"{scores_bagged_svms.mean():.3f} ± {scores_bagged_svms.std():.3f}\")"
      ],
      "metadata": {
        "id": "8f81BjMOCJgv",
        "colab": {
          "base_uri": "https://localhost:8080/"
        },
        "outputId": "c407f0fe-eefd-436b-e28a-3cd7549b283e"
      },
      "execution_count": 29,
      "outputs": [
        {
          "output_type": "stream",
          "name": "stderr",
          "text": [
            "[Parallel(n_jobs=1)]: Using backend SequentialBackend with 1 concurrent workers.\n"
          ]
        },
        {
          "output_type": "stream",
          "name": "stdout",
          "text": [
            "[CV] END ................................ score: (test=0.795) total time=  34.6s\n"
          ]
        },
        {
          "output_type": "stream",
          "name": "stderr",
          "text": [
            "[Parallel(n_jobs=1)]: Done   1 out of   1 | elapsed:   34.6s remaining:    0.0s\n"
          ]
        },
        {
          "output_type": "stream",
          "name": "stdout",
          "text": [
            "[CV] END ................................ score: (test=0.790) total time=  33.3s\n"
          ]
        },
        {
          "output_type": "stream",
          "name": "stderr",
          "text": [
            "[Parallel(n_jobs=1)]: Done   2 out of   2 | elapsed:  1.1min remaining:    0.0s\n"
          ]
        },
        {
          "output_type": "stream",
          "name": "stdout",
          "text": [
            "[CV] END ................................ score: (test=0.792) total time=  32.7s\n"
          ]
        },
        {
          "output_type": "stream",
          "name": "stderr",
          "text": [
            "[Parallel(n_jobs=1)]: Done   3 out of   3 | elapsed:  1.7min remaining:    0.0s\n"
          ]
        },
        {
          "output_type": "stream",
          "name": "stdout",
          "text": [
            "[CV] END ................................ score: (test=0.797) total time=  33.1s\n"
          ]
        },
        {
          "output_type": "stream",
          "name": "stderr",
          "text": [
            "[Parallel(n_jobs=1)]: Done   4 out of   4 | elapsed:  2.2min remaining:    0.0s\n"
          ]
        },
        {
          "output_type": "stream",
          "name": "stdout",
          "text": [
            "[CV] END ................................ score: (test=0.793) total time=  32.1s\n",
            "Bagged SVM classifier: 0.793 ± 0.002\n"
          ]
        },
        {
          "output_type": "stream",
          "name": "stderr",
          "text": [
            "[Parallel(n_jobs=1)]: Done   5 out of   5 | elapsed:  2.8min finished\n"
          ]
        }
      ]
    },
    {
      "cell_type": "code",
      "source": [
        "# PLOT - BAGGING with SVMs\n",
        "import matplotlib.pyplot as plt\n",
        "x = list(range(1, 6))\n",
        "\n",
        "plt.plot(x, scores_bagged_svms)\n",
        "plt.xticks(list(range(1, 6)))\n",
        "plt.title(\"Evaluation scores with cross validation\")\n",
        "plt.xlabel(\"Cross-validations\")\n",
        "plt.ylabel(\"Scores\")\n",
        "plt.show()"
      ],
      "metadata": {
        "colab": {
          "base_uri": "https://localhost:8080/",
          "height": 295
        },
        "id": "J2WZa6u2zzWl",
        "outputId": "57b11744-8acb-48bb-94c7-715df4dfec2e"
      },
      "execution_count": 30,
      "outputs": [
        {
          "output_type": "display_data",
          "data": {
            "text/plain": [
              "<Figure size 432x288 with 1 Axes>"
            ],
            "image/png": "[encoded data removed]"
          },
          "metadata": {
            "needs_background": "light"
          }
        }
      ]
    },
    {
      "cell_type": "code",
      "source": [
        "# PREDICT - BAGGING with SVMs\n",
        "\n",
        "test_df = pd.read_csv(io.BytesIO(uploaded['test_final.csv']))\n",
        "# Clean the testing data so that the transformer doesn't find\n",
        "# values it hasn't seen before\n",
        "# Holand-Netherlands is a unique example in the test_df\n",
        "def clean_X_test(X_test):\n",
        "  X_test['workclass'] = X_test['workclass'].replace('?','Private')\n",
        "  X_test['occupation'] = X_test['occupation'].replace('?','Other-service')\n",
        "  X_test['native.country'] = X_test['native.country'].replace('?','United-States')\n",
        "  X_test['native.country'] = X_test['native.country'].replace('Holand-Netherlands','United-States')\n",
        "  return X_test\n",
        "\n",
        "bagged_svms.fit(X_train, y_train)\n",
        "\n",
        "X_test = test_df.loc[:,test_df.columns != 'ID'].copy()\n",
        "X_test = clean_X_test(X_test)\n",
        "ids = test_df['ID']\n",
        "y_test = []\n",
        "# to predict on testing data\n",
        "test_predictions = bagged_svms.predict(X_test)\n",
        "# to predict on training data\n",
        "predictions = bagged_svms.predict(X_train)"
      ],
      "metadata": {
        "id": "MGq2-n3z1c7k"
      },
      "execution_count": null,
      "outputs": []
    },
    {
      "cell_type": "markdown",
      "source": [
        "# Random Forest"
      ],
      "metadata": {
        "id": "hn537tLJGta5"
      }
    },
    {
      "cell_type": "code",
      "source": [
        "#RANDOM FOREST\n",
        "from sklearn.ensemble import RandomForestClassifier\n",
        "categorical_encoder = OrdinalEncoder()\n",
        "preprocessor = make_column_transformer(\n",
        "    (categorical_encoder, make_column_selector(dtype_include=object)),\n",
        "    remainder=\"passthrough\"\n",
        ")\n",
        "random_forest = make_pipeline(\n",
        "    preprocessor,\n",
        "    RandomForestClassifier(n_estimators=500, n_jobs=-1, random_state=0)\n",
        ")\n",
        "scores_random_forest = cross_val_score(random_forest, X_train, y_train, verbose=5)\n",
        "\n",
        "print(f\"Bagged SVM classifier: \"\n",
        "      f\"{scores_random_forest.mean():.3f} ± {scores_random_forest.std():.3f}\")"
      ],
      "metadata": {
        "colab": {
          "base_uri": "https://localhost:8080/"
        },
        "id": "VPsvdMS-Jn1u",
        "outputId": "06594911-3ad2-4a9d-bc4a-da851b50dbdb"
      },
      "execution_count": 31,
      "outputs": [
        {
          "output_type": "stream",
          "name": "stderr",
          "text": [
            "[Parallel(n_jobs=1)]: Using backend SequentialBackend with 1 concurrent workers.\n"
          ]
        },
        {
          "output_type": "stream",
          "name": "stdout",
          "text": [
            "[CV] END ................................ score: (test=0.863) total time=  11.3s\n"
          ]
        },
        {
          "output_type": "stream",
          "name": "stderr",
          "text": [
            "[Parallel(n_jobs=1)]: Done   1 out of   1 | elapsed:   11.3s remaining:    0.0s\n"
          ]
        },
        {
          "output_type": "stream",
          "name": "stdout",
          "text": [
            "[CV] END ................................ score: (test=0.856) total time=  14.4s\n"
          ]
        },
        {
          "output_type": "stream",
          "name": "stderr",
          "text": [
            "[Parallel(n_jobs=1)]: Done   2 out of   2 | elapsed:   25.7s remaining:    0.0s\n"
          ]
        },
        {
          "output_type": "stream",
          "name": "stdout",
          "text": [
            "[CV] END ................................ score: (test=0.859) total time=  11.1s\n"
          ]
        },
        {
          "output_type": "stream",
          "name": "stderr",
          "text": [
            "[Parallel(n_jobs=1)]: Done   3 out of   3 | elapsed:   36.8s remaining:    0.0s\n"
          ]
        },
        {
          "output_type": "stream",
          "name": "stdout",
          "text": [
            "[CV] END ................................ score: (test=0.864) total time=  10.3s\n"
          ]
        },
        {
          "output_type": "stream",
          "name": "stderr",
          "text": [
            "[Parallel(n_jobs=1)]: Done   4 out of   4 | elapsed:   47.1s remaining:    0.0s\n"
          ]
        },
        {
          "output_type": "stream",
          "name": "stdout",
          "text": [
            "[CV] END ................................ score: (test=0.861) total time=  12.4s\n",
            "Bagged SVM classifier: 0.861 ± 0.003\n"
          ]
        },
        {
          "output_type": "stream",
          "name": "stderr",
          "text": [
            "[Parallel(n_jobs=1)]: Done   5 out of   5 | elapsed:   59.5s finished\n"
          ]
        }
      ]
    },
    {
      "cell_type": "code",
      "source": [
        "# PLOT - BAGGING with Random Forest\n",
        "import matplotlib.pyplot as plt\n",
        "x = list(range(1, 6))\n",
        "\n",
        "plt.plot(x, scores_random_forest)\n",
        "plt.xticks(list(range(1, 6)))\n",
        "plt.title(\"Evaluation scores with cross validation\")\n",
        "plt.xlabel(\"Cross-validations\")\n",
        "plt.ylabel(\"Scores\")\n",
        "plt.show()"
      ],
      "metadata": {
        "colab": {
          "base_uri": "https://localhost:8080/",
          "height": 295
        },
        "id": "hsiHtJX01tls",
        "outputId": "e33d5d39-9861-48b4-a3a4-6e0b8c084dce"
      },
      "execution_count": 32,
      "outputs": [
        {
          "output_type": "display_data",
          "data": {
            "text/plain": [
              "<Figure size 432x288 with 1 Axes>"
            ],
            "image/png": "[encoded data removed]"
          },
          "metadata": {
            "needs_background": "light"
          }
        }
      ]
    },
    {
      "cell_type": "code",
      "source": [
        "# PREDICT - BAGGING with Random Forest\n",
        "\n",
        "test_df = pd.read_csv(io.BytesIO(uploaded['test_final.csv']))\n",
        "# Clean the testing data so that the transformer doesn't find\n",
        "# values it hasn't seen before\n",
        "# Holand-Netherlands is a unique example in the test_df\n",
        "def clean_X_test(X_test):\n",
        "  X_test['workclass'] = X_test['workclass'].replace('?','Private')\n",
        "  X_test['occupation'] = X_test['occupation'].replace('?','Other-service')\n",
        "  X_test['native.country'] = X_test['native.country'].replace('?','United-States')\n",
        "  X_test['native.country'] = X_test['native.country'].replace('Holand-Netherlands','United-States')\n",
        "  return X_test\n",
        "\n",
        "random_forest.fit(X_train, y_train)\n",
        "\n",
        "X_test = test_df.loc[:,test_df.columns != 'ID'].copy()\n",
        "X_test = clean_X_test(X_test)\n",
        "ids = test_df['ID']\n",
        "y_test = []\n",
        "# to predict on testing data\n",
        "test_predictions = random_forest.predict(X_test)\n",
        "# to predict on training data\n",
        "predictions = random_forest.predict(X_train)"
      ],
      "metadata": {
        "id": "dDhwPstb1yhq"
      },
      "execution_count": null,
      "outputs": []
    },
    {
      "cell_type": "markdown",
      "source": [
        "# Adaboost"
      ],
      "metadata": {
        "id": "l9BqOMZDGv_h"
      }
    },
    {
      "cell_type": "code",
      "source": [
        "## ADABOOST\n",
        "from sklearn.ensemble import AdaBoostClassifier\n",
        "categorical_encoder = OrdinalEncoder()\n",
        "preprocessor = make_column_transformer(\n",
        "    (categorical_encoder, make_column_selector(dtype_include=object)),\n",
        "    remainder=\"passthrough\"\n",
        ")\n",
        "adaboost = make_pipeline(\n",
        "    preprocessor,\n",
        "    AdaBoostClassifier(\n",
        "        n_estimators=1000, random_state=1,\n",
        "    )\n",
        ")\n",
        "scores_adaboost = cross_val_score(adaboost, X_train, y_train, verbose=5)\n",
        "\n",
        "print(f\"Adaboost classifier: \"\n",
        "      f\"{scores_adaboost.mean():.3f} ± {scores_adaboost.std():.3f}\")"
      ],
      "metadata": {
        "colab": {
          "base_uri": "https://localhost:8080/"
        },
        "id": "FGMfCYJMGFcO",
        "outputId": "90d87b75-aa60-4d08-89ab-5f2f4d640ede"
      },
      "execution_count": 332,
      "outputs": [
        {
          "output_type": "stream",
          "name": "stderr",
          "text": [
            "[Parallel(n_jobs=1)]: Using backend SequentialBackend with 1 concurrent workers.\n"
          ]
        },
        {
          "output_type": "stream",
          "name": "stdout",
          "text": [
            "[CV] END ................................ score: (test=0.875) total time=  19.4s\n"
          ]
        },
        {
          "output_type": "stream",
          "name": "stderr",
          "text": [
            "[Parallel(n_jobs=1)]: Done   1 out of   1 | elapsed:   19.4s remaining:    0.0s\n"
          ]
        },
        {
          "output_type": "stream",
          "name": "stdout",
          "text": [
            "[CV] END ................................ score: (test=0.866) total time=  17.5s\n"
          ]
        },
        {
          "output_type": "stream",
          "name": "stderr",
          "text": [
            "[Parallel(n_jobs=1)]: Done   2 out of   2 | elapsed:   36.9s remaining:    0.0s\n"
          ]
        },
        {
          "output_type": "stream",
          "name": "stdout",
          "text": [
            "[CV] END ................................ score: (test=0.874) total time=  17.6s\n"
          ]
        },
        {
          "output_type": "stream",
          "name": "stderr",
          "text": [
            "[Parallel(n_jobs=1)]: Done   3 out of   3 | elapsed:   54.5s remaining:    0.0s\n"
          ]
        },
        {
          "output_type": "stream",
          "name": "stdout",
          "text": [
            "[CV] END ................................ score: (test=0.878) total time=  17.4s\n"
          ]
        },
        {
          "output_type": "stream",
          "name": "stderr",
          "text": [
            "[Parallel(n_jobs=1)]: Done   4 out of   4 | elapsed:  1.2min remaining:    0.0s\n"
          ]
        },
        {
          "output_type": "stream",
          "name": "stdout",
          "text": [
            "[CV] END ................................ score: (test=0.870) total time=  17.9s\n",
            "Adaboost classifier: 0.873 ± 0.004\n"
          ]
        },
        {
          "output_type": "stream",
          "name": "stderr",
          "text": [
            "[Parallel(n_jobs=1)]: Done   5 out of   5 | elapsed:  1.5min finished\n"
          ]
        }
      ]
    },
    {
      "cell_type": "code",
      "source": [
        "# PLOT - Adaboost\n",
        "import matplotlib.pyplot as plt\n",
        "x = list(range(1, 6))\n",
        "\n",
        "plt.plot(x, scores_adaboost)\n",
        "plt.xticks(list(range(1, 6)))\n",
        "plt.title(\"Evaluation scores with cross validation\")\n",
        "plt.xlabel(\"Cross-validations\")\n",
        "plt.ylabel(\"Scores\")\n",
        "plt.show()"
      ],
      "metadata": {
        "colab": {
          "base_uri": "https://localhost:8080/",
          "height": 295
        },
        "id": "EbXGSHLw3Dko",
        "outputId": "3eaf11f8-4d34-4570-a68c-e79b90694615"
      },
      "execution_count": 36,
      "outputs": [
        {
          "output_type": "display_data",
          "data": {
            "text/plain": [
              "<Figure size 432x288 with 1 Axes>"
            ],
            "image/png": "[encoded data removed]"
          },
          "metadata": {
            "needs_background": "light"
          }
        }
      ]
    },
    {
      "cell_type": "code",
      "source": [
        "# PLOT - Comparison\n",
        "import matplotlib.pyplot as plt\n",
        "x = list(range(1, 5))\n",
        "s = [scores_random_forest.mean(), scores_bagged_svms.mean(),\n",
        "             scores_adaboost.mean(), scores_random_forest.mean()]\n",
        "plt.plot(x, s)\n",
        "plt.xticks(x,[\"random_forest\", \"bagged_svms\",\n",
        "             \"adaboost\", \"random_forest\"], rotation=\"vertical\")\n",
        "plt.title(\"Scores Comparison\")\n",
        "plt.ylabel(\"Scores\")\n",
        "plt.show()"
      ],
      "metadata": {
        "colab": {
          "base_uri": "https://localhost:8080/",
          "height": 344
        },
        "id": "R8faOzMH4Dv8",
        "outputId": "73bb2ecb-292e-4c2f-c60e-1d57e18b014c"
      },
      "execution_count": 42,
      "outputs": [
        {
          "output_type": "display_data",
          "data": {
            "text/plain": [
              "<Figure size 432x288 with 1 Axes>"
            ],
            "image/png": "[encoded data removed]"
          },
          "metadata": {
            "needs_background": "light"
          }
        }
      ]
    },
    {
      "cell_type": "code",
      "source": [
        "# PREDICT - BAGGING with Adaboost\n",
        "\n",
        "test_df = pd.read_csv(io.BytesIO(uploaded['test_final.csv']))\n",
        "# Clean the testing data so that the transformer doesn't find\n",
        "# values it hasn't seen before\n",
        "# Holand-Netherlands is a unique example in the test_df\n",
        "def clean_X_test(X_test):\n",
        "  X_test['workclass'] = X_test['workclass'].replace('?','Private')\n",
        "  X_test['occupation'] = X_test['occupation'].replace('?','Other-service')\n",
        "  X_test['native.country'] = X_test['native.country'].replace('?','United-States')\n",
        "  X_test['native.country'] = X_test['native.country'].replace('Holand-Netherlands','United-States')\n",
        "  return X_test\n",
        "\n",
        "adaboost.fit(X_train, y_train)\n",
        "\n",
        "X_test = test_df.loc[:,test_df.columns != 'ID'].copy()\n",
        "X_test = clean_X_test(X_test)\n",
        "ids = test_df['ID']\n",
        "y_test = []\n",
        "# to predict on testing data\n",
        "test_predictions = adaboost.predict(X_test)\n",
        "# to predict on training data\n",
        "predictions = adaboost.predict(X_train)"
      ],
      "metadata": {
        "id": "PSbmpfQ_3Dtt"
      },
      "execution_count": 333,
      "outputs": []
    },
    {
      "cell_type": "markdown",
      "source": [
        "# Further process the data"
      ],
      "metadata": {
        "id": "zn9D2LdxGfr4"
      }
    },
    {
      "cell_type": "code",
      "source": [
        "# checkpoint to debug data processing\n",
        "X_train = X.loc[:,X.columns != 'income>50K']\n",
        "y_train = X['income>50K']"
      ],
      "metadata": {
        "id": "Uuav-3rbLDPB"
      },
      "execution_count": 246,
      "outputs": []
    },
    {
      "cell_type": "code",
      "source": [
        "# age column\n",
        "# X_train.age.plot.hist()\n",
        "# X_train[\"age\"] = np.where((X_train[\"age\"] <= 45) & (X_train[\"age\"] > 0), -1, X_train[\"age\"])\n",
        "# X_train[\"age\"] = np.where((X_train[\"age\"] <= 65) & (X_train[\"age\"] > 45), -2, X_train[\"age\"])\n",
        "# X_train[\"age\"] = np.where((X_train[\"age\"] > 65), -3, X_train[\"age\"])\n",
        "# X_train[\"age\"] = X_train[\"age\"].replace(-1,\"0to45\")\n",
        "# X_train[\"age\"] = X_train[\"age\"].replace(-2,\"46to65\")\n",
        "# X_train[\"age\"] = X_train[\"age\"].replace(-3,\"66above\")\n",
        "# X_train.age"
      ],
      "metadata": {
        "id": "phTbONmwxAoK"
      },
      "execution_count": null,
      "outputs": []
    },
    {
      "cell_type": "code",
      "source": [
        "# X_train[\"workclass\"] = X_train[\"workclass\"].replace([\"Self-emp-inc\",\"Federal-gov\",\n",
        "#                                                      \"Without-pay\",\"Never-worked\"],\"other\")\n",
        "# X_train.workclass.value_counts()"
      ],
      "metadata": {
        "id": "PlY3TPYQ1K1s"
      },
      "execution_count": null,
      "outputs": []
    },
    {
      "cell_type": "code",
      "source": [
        "# fnlwgt column\n",
        "# X_train.fnlwgt.plot.hist(bins=50)\n",
        "# X_train[\"fnlwgt\"] = np.where((X_train[\"fnlwgt\"] <= 100000) & (X_train[\"fnlwgt\"] > 0), -1, X_train[\"fnlwgt\"])\n",
        "# X_train[\"fnlwgt\"] = np.where((X_train[\"fnlwgt\"] <= 220000) & (X_train[\"fnlwgt\"] > 100000), -2, X_train[\"fnlwgt\"])\n",
        "# X_train[\"fnlwgt\"] = np.where((X_train[\"fnlwgt\"] > 220000), -3, X_train[\"fnlwgt\"])\n",
        "# X_train[\"fnlwgt\"] = X_train[\"fnlwgt\"].replace(-1,\"0to100K\")\n",
        "# X_train[\"fnlwgt\"] = X_train[\"fnlwgt\"].replace(-2,\"100to220K\")\n",
        "# X_train[\"fnlwgt\"] = X_train[\"fnlwgt\"].replace(-3,\"220Kabove\")"
      ],
      "metadata": {
        "id": "KLJy505yuVJx"
      },
      "execution_count": null,
      "outputs": []
    },
    {
      "cell_type": "code",
      "source": [
        "# capital.gain column\n",
        "# X_train[\"capital.gain\"].plot.hist(bins=50)\n",
        "# X_train[\"capital.gain\"].value_counts()[0:20]\n",
        "# X_train[\"capital.gain\"] = np.where((X_train[\"capital.gain\"] == 0), -1, X_train[\"capital.gain\"])\n",
        "# X_train[\"capital.gain\"] = np.where((X_train[\"capital.gain\"] > 0), -2, X_train[\"capital.gain\"])\n",
        "# X_train[\"capital.gain\"] = X_train[\"capital.gain\"].replace(-1,\"zero\")\n",
        "# X_train[\"capital.gain\"] = X_train[\"capital.gain\"].replace(-2,\"more_than_zero\")"
      ],
      "metadata": {
        "id": "-jksJUiCcHOU"
      },
      "execution_count": null,
      "outputs": []
    },
    {
      "cell_type": "code",
      "source": [
        "# capital.loss column\n",
        "# X_train[\"capital.loss\"].plot.hist(bins=50)\n",
        "# X_train[\"capital.loss\"].value_counts()[0:20]\n",
        "# X_train[\"capital.loss\"] = np.where((X_train[\"capital.loss\"] == 0), -1, X_train[\"capital.loss\"])\n",
        "# X_train[\"capital.loss\"] = np.where((X_train[\"capital.loss\"] > 0), -2, X_train[\"capital.loss\"])\n",
        "# X_train[\"capital.loss\"] = X_train[\"capital.loss\"].replace(-1,\"zero\")\n",
        "# X_train[\"capital.loss\"] = X_train[\"capital.loss\"].replace(-2,\"more_than_zero\")"
      ],
      "metadata": {
        "id": "6VrafgV9lAqY"
      },
      "execution_count": null,
      "outputs": []
    },
    {
      "cell_type": "code",
      "source": [
        "# hours.per.week column\n",
        "# X_train[\"hours.per.week\"].plot.hist(bins=50)\n",
        "# X_train[\"hours.per.week\"].value_counts()\n",
        "# X_train[\"hours.per.week\"] = np.where((X_train[\"hours.per.week\"] < 40), -1, X_train[\"hours.per.week\"])\n",
        "# X_train[\"hours.per.week\"] = np.where((X_train[\"hours.per.week\"] == 40), -2, X_train[\"hours.per.week\"])\n",
        "# X_train[\"hours.per.week\"] = np.where((X_train[\"hours.per.week\"] > 40), -3, X_train[\"hours.per.week\"])\n",
        "# X_train[\"hours.per.week\"] = X_train[\"hours.per.week\"].replace(-1,\"-fourty\")\n",
        "# X_train[\"hours.per.week\"] = X_train[\"hours.per.week\"].replace(-2,\"fourty\")\n",
        "# X_train[\"hours.per.week\"] = X_train[\"hours.per.week\"].replace(-3,\"+fourty\")"
      ],
      "metadata": {
        "id": "-qCxxnNTldgl"
      },
      "execution_count": null,
      "outputs": []
    },
    {
      "cell_type": "markdown",
      "source": [
        "# Naive Bayes"
      ],
      "metadata": {
        "id": "t6QcTMHWpSWn"
      }
    },
    {
      "cell_type": "code",
      "source": [
        "from sklearn.naive_bayes import GaussianNB\n",
        "categorical_encoder = OrdinalEncoder()\n",
        "preprocessor = make_column_transformer(\n",
        "    (categorical_encoder, make_column_selector(dtype_include=object)),\n",
        "    remainder=\"passthrough\"\n",
        ")\n",
        "gnb = make_pipeline(\n",
        "    preprocessor,\n",
        "    GaussianNB()\n",
        ")\n",
        "\n",
        "preds = gnb.fit(X_train, y_train).predict(X_train)\n",
        "\n",
        "\n",
        "print(\"Number of mislabeled points out of a total %d points : %d\"\n",
        "          % (X_train.shape[0], (y_train != preds).sum()))\n",
        "score_gaussian = (100 - (y_train != preds).sum() * 100 / X_train.shape[0])\n",
        "print(\"%\",score_gaussian)"
      ],
      "metadata": {
        "colab": {
          "base_uri": "https://localhost:8080/"
        },
        "id": "NJ2-ZsIdwWNq",
        "outputId": "96c53f81-a4c5-4847-db76-e61860f792b4"
      },
      "execution_count": 252,
      "outputs": [
        {
          "output_type": "stream",
          "name": "stdout",
          "text": [
            "Number of mislabeled points out of a total 25000 points : 5099\n",
            "% 79.604\n"
          ]
        }
      ]
    },
    {
      "cell_type": "code",
      "source": [
        "from sklearn.naive_bayes import  MultinomialNB\n",
        "categorical_encoder = OrdinalEncoder()\n",
        "preprocessor = make_column_transformer(\n",
        "    (categorical_encoder, make_column_selector(dtype_include=object)),\n",
        "    remainder=\"passthrough\"\n",
        ")\n",
        "gnb = make_pipeline(\n",
        "    preprocessor,\n",
        "    MultinomialNB()\n",
        ")\n",
        "\n",
        "preds = gnb.fit(X_train, y_train).predict(X_train)\n",
        "\n",
        "\n",
        "print(\"Number of mislabeled points out of a total %d points : %d\"\n",
        "          % (X_train.shape[0], (y_train != preds).sum()))\n",
        "score_multinominal = (100 - (y_train != preds).sum() * 100 / X_train.shape[0])\n",
        "print(\"%\",score_multinominal)"
      ],
      "metadata": {
        "colab": {
          "base_uri": "https://localhost:8080/"
        },
        "id": "dIGTtaNZwD6s",
        "outputId": "fa397e0b-3f91-4a2a-ef91-e2d5da658f85"
      },
      "execution_count": 253,
      "outputs": [
        {
          "output_type": "stream",
          "name": "stdout",
          "text": [
            "Number of mislabeled points out of a total 25000 points : 5408\n",
            "% 78.368\n"
          ]
        }
      ]
    },
    {
      "cell_type": "code",
      "source": [
        "from sklearn.naive_bayes import  ComplementNB\n",
        "categorical_encoder = OrdinalEncoder()\n",
        "preprocessor = make_column_transformer(\n",
        "    (categorical_encoder, make_column_selector(dtype_include=object)),\n",
        "    remainder=\"passthrough\"\n",
        ")\n",
        "gnb = make_pipeline(\n",
        "    preprocessor,\n",
        "    ComplementNB()\n",
        ")\n",
        "\n",
        "preds = gnb.fit(X_train, y_train).predict(X_train)\n",
        "\n",
        "\n",
        "print(\"Number of mislabeled points out of a total %d points : %d\"\n",
        "          % (X_train.shape[0], (y_train != preds).sum()))\n",
        "score_complement = (100 - (y_train != preds).sum() * 100 / X_train.shape[0])\n",
        "print(\"%\",score_complement)"
      ],
      "metadata": {
        "colab": {
          "base_uri": "https://localhost:8080/"
        },
        "id": "8kcmZQiLwQ6w",
        "outputId": "be24aa83-65b5-4048-e9a4-25c24652979a"
      },
      "execution_count": 254,
      "outputs": [
        {
          "output_type": "stream",
          "name": "stdout",
          "text": [
            "Number of mislabeled points out of a total 25000 points : 5408\n",
            "% 78.368\n"
          ]
        }
      ]
    },
    {
      "cell_type": "code",
      "source": [
        "from sklearn.naive_bayes import  BernoulliNB\n",
        "categorical_encoder = OrdinalEncoder()\n",
        "preprocessor = make_column_transformer(\n",
        "    (categorical_encoder, make_column_selector(dtype_include=object)),\n",
        "    remainder=\"passthrough\"\n",
        ")\n",
        "gnb = make_pipeline(\n",
        "    preprocessor,\n",
        "    BernoulliNB()\n",
        ")\n",
        "\n",
        "preds = gnb.fit(X_train, y_train).predict(X_train)\n",
        "\n",
        "\n",
        "print(\"Number of mislabeled points out of a total %d points : %d\"\n",
        "          % (X_train.shape[0], (y_train != preds).sum()))\n",
        "score_bernoulli = (100 - (y_train != preds).sum() * 100 / X_train.shape[0])\n",
        "print(\"%\",score_bernoulli)"
      ],
      "metadata": {
        "colab": {
          "base_uri": "https://localhost:8080/"
        },
        "id": "x9NQr4eVwnuz",
        "outputId": "d4f0ac63-7a5c-419b-e05f-7fd4d5da8a3c"
      },
      "execution_count": 255,
      "outputs": [
        {
          "output_type": "stream",
          "name": "stdout",
          "text": [
            "Number of mislabeled points out of a total 25000 points : 6832\n",
            "% 72.672\n"
          ]
        }
      ]
    },
    {
      "cell_type": "code",
      "source": [
        "from sklearn.naive_bayes import  CategoricalNB\n",
        "categorical_encoder = OrdinalEncoder()\n",
        "preprocessor = make_column_transformer(\n",
        "    (categorical_encoder, make_column_selector(dtype_include=object)),\n",
        "    remainder=\"passthrough\"\n",
        ")\n",
        "gnb = make_pipeline(\n",
        "    preprocessor,\n",
        "    CategoricalNB()\n",
        ")\n",
        "\n",
        "preds = gnb.fit(X_train, y_train).predict(X_train)\n",
        "\n",
        "\n",
        "print(\"Number of mislabeled points out of a total %d points : %d\"\n",
        "          % (X_train.shape[0], (y_train != preds).sum()))\n",
        "score_categorical = (100 - (y_train != preds).sum() * 100 / X_train.shape[0])\n",
        "print(\"%\",score_categorical)"
      ],
      "metadata": {
        "colab": {
          "base_uri": "https://localhost:8080/"
        },
        "id": "XkvvzXwdwuLQ",
        "outputId": "2c1ce710-4faa-49c1-e10a-36cfffdf3300"
      },
      "execution_count": 256,
      "outputs": [
        {
          "output_type": "stream",
          "name": "stdout",
          "text": [
            "Number of mislabeled points out of a total 25000 points : 2724\n",
            "% 89.104\n"
          ]
        }
      ]
    },
    {
      "cell_type": "code",
      "source": [
        "# PLOT - Comparison between NAIVE BAYES\n",
        "import matplotlib.pyplot as plt\n",
        "x = list(range(1, 6))\n",
        "s = [score_gaussian, score_multinominal, score_complement, score_bernoulli, score_categorical]\n",
        "plt.plot(x, s)\n",
        "plt.xticks(x,[\"gaussian\", \"multinominal\",\n",
        "             \"complement\", \"bernoulli\",\n",
        "              \"categorical\"], rotation=\"vertical\")\n",
        "plt.title(\"Naive Bayes - Scores Comparison\")\n",
        "plt.ylabel(\"Scores\")\n",
        "plt.show()"
      ],
      "metadata": {
        "colab": {
          "base_uri": "https://localhost:8080/",
          "height": 337
        },
        "id": "wpzl430pxZQE",
        "outputId": "e2e27be4-2261-41e4-a2f2-cab727543a6d"
      },
      "execution_count": 257,
      "outputs": [
        {
          "output_type": "display_data",
          "data": {
            "text/plain": [
              "<Figure size 432x288 with 1 Axes>"
            ],
            "image/png": "[encoded data removed]"
          },
          "metadata": {
            "needs_background": "light"
          }
        }
      ]
    },
    {
      "cell_type": "code",
      "source": [
        "## ADABOOST\n",
        "from sklearn.ensemble import AdaBoostClassifier\n",
        "categorical_encoder = OrdinalEncoder()\n",
        "preprocessor = make_column_transformer(\n",
        "    (categorical_encoder, make_column_selector(dtype_include=object)),\n",
        "    remainder=\"passthrough\"\n",
        ")\n",
        "adaboost = make_pipeline(\n",
        "    preprocessor,\n",
        "    AdaBoostClassifier(\n",
        "        n_estimators=100, random_state=0,\n",
        "    )\n",
        ")\n",
        "scores_adaboost = cross_val_score(adaboost, X_train, y_train, verbose=5)\n",
        "\n",
        "print(f\"Adaboost classifier: \"\n",
        "      f\"{scores_adaboost.mean():.3f} ± {scores_adaboost.std():.3f}\")"
      ],
      "metadata": {
        "id": "y3HPwtcDzbRc"
      },
      "execution_count": null,
      "outputs": []
    },
    {
      "cell_type": "markdown",
      "source": [
        "# Perceptron"
      ],
      "metadata": {
        "id": "ts1fgRsk0_z6"
      }
    },
    {
      "cell_type": "code",
      "source": [
        "from sklearn.linear_model import Perceptron\n",
        "categorical_encoder = OrdinalEncoder()\n",
        "preprocessor = make_column_transformer(\n",
        "    (categorical_encoder, make_column_selector(dtype_include=object)),\n",
        "    remainder=\"passthrough\"\n",
        ")\n",
        "p = make_pipeline(\n",
        "    preprocessor,\n",
        "    Perceptron(random_state=42, max_iter=1000, tol=0.0001, penalty=\"l2\")\n",
        ")\n",
        "\n",
        "preds = p.fit(X_train, y_train).predict(X_train)\n",
        "\n",
        "\n",
        "print(\"Number of mislabeled points out of a total %d points : %d\"\n",
        "          % (X_train.shape[0], (y_train != preds).sum()))\n",
        "score_perceptron = (100 - (y_train != preds).sum() * 100 / X_train.shape[0])\n",
        "print(\"%\",score_perceptron)"
      ],
      "metadata": {
        "colab": {
          "base_uri": "https://localhost:8080/"
        },
        "id": "Hv_3HtNc0_VU",
        "outputId": "c60da7c0-a526-4337-f191-b15323527f64"
      },
      "execution_count": 271,
      "outputs": [
        {
          "output_type": "stream",
          "name": "stdout",
          "text": [
            "Number of mislabeled points out of a total 25000 points : 5135\n",
            "% 79.46000000000001\n"
          ]
        }
      ]
    },
    {
      "cell_type": "markdown",
      "source": [
        "# KNN"
      ],
      "metadata": {
        "id": "Hb_07r_m3xw5"
      }
    },
    {
      "cell_type": "code",
      "source": [
        "from sklearn.neighbors import KNeighborsClassifier\n",
        "categorical_encoder = OrdinalEncoder()\n",
        "preprocessor = make_column_transformer(\n",
        "    (categorical_encoder, make_column_selector(dtype_include=object)),\n",
        "    remainder=\"passthrough\"\n",
        ")\n",
        "results = []\n",
        "for i in range(1,15):\n",
        "  knn = make_pipeline(\n",
        "      preprocessor,\n",
        "      KNeighborsClassifier(n_neighbors=i)\n",
        "  )\n",
        "\n",
        "  preds = knn.fit(X_train, y_train).predict(X_train)\n",
        "\n",
        "\n",
        "  \n",
        "  score_knn = (100 - (y_train != preds).sum() * 100 / X_train.shape[0])\n",
        "\n",
        "  results.append(score_knn)\n",
        "\n",
        "for k, score in enumerate(results):\n",
        "  print(f\"k={k+1} score={score}\")\n",
        "plt.plot(list(range(1,15)), results)\n",
        "plt.title(\"Results with knn\")\n",
        "plt.ylabel(\"Scores\")\n",
        "plt.show()"
      ],
      "metadata": {
        "colab": {
          "base_uri": "https://localhost:8080/",
          "height": 524
        },
        "id": "VFo55-Bc3zC0",
        "outputId": "61a042fc-b56d-4f3a-b098-13e0cddca2b0"
      },
      "execution_count": 281,
      "outputs": [
        {
          "output_type": "stream",
          "name": "stdout",
          "text": [
            "k=1 score=99.992\n",
            "k=2 score=87.056\n",
            "k=3 score=86.488\n",
            "k=4 score=83.47200000000001\n",
            "k=5 score=83.388\n",
            "k=6 score=82.336\n",
            "k=7 score=82.188\n",
            "k=8 score=81.64\n",
            "k=9 score=81.496\n",
            "k=10 score=81.136\n",
            "k=11 score=81.096\n",
            "k=12 score=80.80799999999999\n",
            "k=13 score=80.88\n",
            "k=14 score=80.69200000000001\n"
          ]
        },
        {
          "output_type": "display_data",
          "data": {
            "text/plain": [
              "<Figure size 432x288 with 1 Axes>"
            ],
            "image/png": "[encoded data removed]"
          },
          "metadata": {
            "needs_background": "light"
          }
        }
      ]
    },
    {
      "cell_type": "code",
      "source": [
        "# PREDICT - KNN\n",
        "knn = make_pipeline(\n",
        "      preprocessor,\n",
        "      KNeighborsClassifier(n_neighbors=4)\n",
        "  )\n",
        "\n",
        "test_df = pd.read_csv(io.BytesIO(uploaded['test_final.csv']))\n",
        "# Clean the testing data so that the transformer doesn't find\n",
        "# values it hasn't seen before\n",
        "# Holand-Netherlands is a unique example in the test_df\n",
        "def clean_X_test(X_test):\n",
        "  X_test['workclass'] = X_test['workclass'].replace('?','Private')\n",
        "  X_test['occupation'] = X_test['occupation'].replace('?','Other-service')\n",
        "  X_test['native.country'] = X_test['native.country'].replace('?','United-States')\n",
        "  X_test['native.country'] = X_test['native.country'].replace('Holand-Netherlands','United-States')\n",
        "  return X_test\n",
        "\n",
        "knn.fit(X_train, y_train)\n",
        "\n",
        "X_test = test_df.loc[:,test_df.columns != 'ID'].copy()\n",
        "X_test = clean_X_test(X_test)\n",
        "ids = test_df['ID']\n",
        "y_test = []\n",
        "# to predict on testing data\n",
        "test_predictions = knn.predict(X_test)"
      ],
      "metadata": {
        "id": "Hwb4Gdj86nA1"
      },
      "execution_count": 278,
      "outputs": []
    },
    {
      "cell_type": "markdown",
      "source": [
        "# Neural Net"
      ],
      "metadata": {
        "id": "Nsv3CpUJBeie"
      }
    },
    {
      "cell_type": "code",
      "source": [
        "from sklearn.neural_network import MLPClassifier\n",
        "from sklearn.preprocessing import StandardScaler \n",
        "categorical_encoder = OrdinalEncoder()\n",
        "preprocessor = make_column_transformer(\n",
        "    (categorical_encoder, make_column_selector(dtype_include=object)),\n",
        "    remainder=\"passthrough\"\n",
        ")\n",
        "\n",
        "# checkpoint to debug data processing\n",
        "X_train = X.loc[:,X.columns != 'income>50K']\n",
        "y_train = X['income>50K']\n",
        "\n",
        "nn = MLPClassifier(solver='sgd', alpha=1e-4,\n",
        "                  hidden_layer_sizes=(14, 512, 256, 2), random_state=42,\n",
        "                  learning_rate=\"adaptive\", activation=\"relu\",\n",
        "                  max_iter=500)\n",
        "preprocessor.fit(X_train)\n",
        "X_train = preprocessor.transform(X_train)\n",
        "scaler = StandardScaler()\n",
        "scaler.fit(X_train)\n",
        "X_train = scaler.transform(X_train)\n",
        "preds = nn.fit(X_train).predict(X_train)\n",
        "\n",
        "\n",
        "print(\"Number of mislabeled points out of a total %d points : %d\"\n",
        "          % (X_train.shape[0], (y_train != preds).sum()))\n",
        "score_nn = (100 - (y_train != preds).sum() * 100 / X_train.shape[0])\n",
        "print(\"%\",score_nn)"
      ],
      "metadata": {
        "colab": {
          "base_uri": "https://localhost:8080/"
        },
        "id": "PkD2nbztBlBe",
        "outputId": "7742bd65-2343-4dc6-e62a-51c57d7e7430"
      },
      "execution_count": 320,
      "outputs": [
        {
          "output_type": "stream",
          "name": "stderr",
          "text": [
            "/usr/local/lib/python3.8/dist-packages/sklearn/neural_network/_multilayer_perceptron.py:692: ConvergenceWarning: Stochastic Optimizer: Maximum iterations (500) reached and the optimization hasn't converged yet.\n",
            "  warnings.warn(\n"
          ]
        },
        {
          "output_type": "stream",
          "name": "stdout",
          "text": [
            "Number of mislabeled points out of a total 25000 points : 3195\n",
            "% 87.22\n"
          ]
        }
      ]
    },
    {
      "cell_type": "code",
      "source": [
        "# checkpoint to debug data processing\n",
        "X_train = X.loc[:,X.columns != 'income>50K']\n",
        "y_train = X['income>50K']"
      ],
      "metadata": {
        "id": "7LuQxoq8S3eS"
      },
      "execution_count": 325,
      "outputs": []
    },
    {
      "cell_type": "code",
      "source": [
        "# Predict NN\n",
        "test_df = pd.read_csv(io.BytesIO(uploaded['test_final.csv']))\n",
        "# Clean the testing data so that the transformer doesn't find\n",
        "# values it hasn't seen before\n",
        "# Holand-Netherlands is a unique example in the test_df\n",
        "def clean_X_test(X_test):\n",
        "  X_test['workclass'] = X_test['workclass'].replace('?','Private')\n",
        "  X_test['occupation'] = X_test['occupation'].replace('?','Other-service')\n",
        "  X_test['native.country'] = X_test['native.country'].replace('?','United-States')\n",
        "  X_test['native.country'] = X_test['native.country'].replace('Holand-Netherlands','United-States')\n",
        "  return X_test\n",
        "X_test = test_df.loc[:,test_df.columns != 'ID'].copy()\n",
        "X_test = clean_X_test(X_test)\n",
        "ids = test_df['ID']\n",
        "y_test = []\n",
        "\n",
        "preprocessor2 = make_column_transformer(\n",
        "    (categorical_encoder, make_column_selector(dtype_include=object)),\n",
        "    remainder=\"passthrough\"\n",
        ")\n",
        "# to predict on testing data\n",
        "preprocessor2.fit(X_test)\n",
        "X_test = preprocessor.transform(X_test)\n",
        "scaler2 = StandardScaler()\n",
        "scaler2.fit(X_test)\n",
        "X_test = scaler.transform(X_test)\n",
        "test_predictions = nn.predict(X_test)\n",
        "#test_predictions = nn.predict(X_test)"
      ],
      "metadata": {
        "colab": {
          "base_uri": "https://localhost:8080/"
        },
        "id": "MJ-j8-hPK5pc",
        "outputId": "4b9ee361-bbb8-4398-cbbb-1f660236e0b7"
      },
      "execution_count": 327,
      "outputs": [
        {
          "output_type": "stream",
          "name": "stderr",
          "text": [
            "/usr/local/lib/python3.8/dist-packages/sklearn/base.py:450: UserWarning: X does not have valid feature names, but MLPClassifier was fitted with feature names\n",
            "  warnings.warn(\n"
          ]
        }
      ]
    },
    {
      "cell_type": "code",
      "source": [
        "# download csv\n",
        "d = {'ID': ids.tolist(), 'Prediction': test_predictions}\n",
        "resultDF = pd.DataFrame(d)\n",
        "\n",
        "from google.colab import files\n",
        "resultDF.to_csv('predictions.csv', index=None) \n",
        "files.download('predictions.csv')"
      ],
      "metadata": {
        "colab": {
          "base_uri": "https://localhost:8080/",
          "height": 17
        },
        "id": "nk2iy5zY6LEa",
        "outputId": "9545a891-99e0-417e-f61b-5ff3bb0bbbbc"
      },
      "execution_count": 334,
      "outputs": [
        {
          "output_type": "display_data",
          "data": {
            "text/plain": [
              "<IPython.core.display.Javascript object>"
            ],
            "application/javascript": [
              "\n",
              "    async function download(id, filename, size) {\n",
              "      if (!google.colab.kernel.accessAllowed) {\n",
              "        return;\n",
              "      }\n",
              "      const div = document.createElement('div');\n",
              "      const label = document.createElement('label');\n",
              "      label.textContent = `Downloading \"${filename}\": `;\n",
              "      div.appendChild(label);\n",
              "      const progress = document.createElement('progress');\n",
              "      progress.max = size;\n",
              "      div.appendChild(progress);\n",
              "      document.body.appendChild(div);\n",
              "\n",
              "      const buffers = [];\n",
              "      let downloaded = 0;\n",
              "\n",
              "      const channel = await google.colab.kernel.comms.open(id);\n",
              "      // Send a message to notify the kernel that we're ready.\n",
              "      channel.send({})\n",
              "\n",
              "      for await (const message of channel.messages) {\n",
              "        // Send a message to notify the kernel that we're ready.\n",
              "        channel.send({})\n",
              "        if (message.buffers) {\n",
              "          for (const buffer of message.buffers) {\n",
              "            buffers.push(buffer);\n",
              "            downloaded += buffer.byteLength;\n",
              "            progress.value = downloaded;\n",
              "          }\n",
              "        }\n",
              "      }\n",
              "      const blob = new Blob(buffers, {type: 'application/binary'});\n",
              "      const a = document.createElement('a');\n",
              "      a.href = window.URL.createObjectURL(blob);\n",
              "      a.download = filename;\n",
              "      div.appendChild(a);\n",
              "      a.click();\n",
              "      div.remove();\n",
              "    }\n",
              "  "
            ]
          },
          "metadata": {}
        },
        {
          "output_type": "display_data",
          "data": {
            "text/plain": [
              "<IPython.core.display.Javascript object>"
            ],
            "application/javascript": [
              "download(\"download_1afac9f1-f139-42bb-b73c-4e099e178d23\", \"predictions.csv\", 179644)"
            ]
          },
          "metadata": {}
        }
      ]
    }
  ]
}